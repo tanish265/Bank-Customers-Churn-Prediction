{
 "cells": [
  {
   "cell_type": "markdown",
   "metadata": {},
   "source": [
    "# BANK CUSTOMER CHURN PREDICTION\n"
   ]
  },
  {
   "cell_type": "markdown",
   "metadata": {},
   "source": [
    "<img align=\"left\" width=\"500\" height=\"400\" src=\"https://drive.google.com/uc?export=view&id=1cndfDAb6JDdtMtxxSl6bIyZfDztJeTkS\">"
   ]
  },
  {
   "cell_type": "markdown",
   "metadata": {},
   "source": [
    "## Introduction."
   ]
  },
  {
   "cell_type": "markdown",
   "metadata": {},
   "source": [
    "### Customer churn refers to the phenomenon when a customer leaves a company or an organization,in our case a bank. Some studies shows that accquiring new coustomers can cost 5 times than that of satisfying and retaining existing customers. Thus tracking of bank customer churn rate through prediction will help in reducing marketing costs, lead to increase in capital ,expanding total customers and a lot more."
   ]
  },
  {
   "cell_type": "markdown",
   "metadata": {},
   "source": [
    "### In this project, we will be doing an Exploratory Data Analysis(EDA) and churn prediction through machine learning and deep learning techniques on the bank customers dataset which is taken from Kaggle."
   ]
  },
  {
   "cell_type": "markdown",
   "metadata": {},
   "source": [
    "## Overview of Notebook\n",
    "\n",
    "### 1. Load and Manipulate Data\n",
    "### 2. Exploratory Data Analysis¶\n",
    "### 3. Feature Engineering for the baseline model\n",
    "### 4. Data Preparation for the Model fitting\n",
    "### 5. Model fitting and selection\n",
    "### 6.Handling the problem of Imbalanced dataset\n",
    "### 7. Conclusion."
   ]
  },
  {
   "cell_type": "code",
   "execution_count": 1,
   "metadata": {
    "id": "PF_ZOlQZyXIt"
   },
   "outputs": [],
   "source": [
    "# importing libraries\n",
    "import pandas as pd\n",
    "import seaborn as sns\n",
    "import numpy as np\n",
    "import matplotlib.pyplot as plt\n",
    "%matplotlib inline\n",
    "import tensorflow as tf\n",
    "# tf.test.gpu_device_name()"
   ]
  },
  {
   "cell_type": "markdown",
   "metadata": {},
   "source": [
    "## 1. Load and Manipulate Data"
   ]
  },
  {
   "cell_type": "code",
   "execution_count": 2,
   "metadata": {
    "colab": {
     "base_uri": "https://localhost:8080/",
     "height": 224
    },
    "id": "aQoIaSqpyXJD",
    "outputId": "1828a856-3e30-4f39-a32d-0e692d8b4425"
   },
   "outputs": [
    {
     "data": {
      "text/html": [
       "<div>\n",
       "<style scoped>\n",
       "    .dataframe tbody tr th:only-of-type {\n",
       "        vertical-align: middle;\n",
       "    }\n",
       "\n",
       "    .dataframe tbody tr th {\n",
       "        vertical-align: top;\n",
       "    }\n",
       "\n",
       "    .dataframe thead th {\n",
       "        text-align: right;\n",
       "    }\n",
       "</style>\n",
       "<table border=\"1\" class=\"dataframe\">\n",
       "  <thead>\n",
       "    <tr style=\"text-align: right;\">\n",
       "      <th></th>\n",
       "      <th>RowNumber</th>\n",
       "      <th>CustomerId</th>\n",
       "      <th>Surname</th>\n",
       "      <th>CreditScore</th>\n",
       "      <th>Geography</th>\n",
       "      <th>Gender</th>\n",
       "      <th>Age</th>\n",
       "      <th>Tenure</th>\n",
       "      <th>Balance</th>\n",
       "      <th>NumOfProducts</th>\n",
       "      <th>HasCrCard</th>\n",
       "      <th>IsActiveMember</th>\n",
       "      <th>EstimatedSalary</th>\n",
       "      <th>Exited</th>\n",
       "    </tr>\n",
       "  </thead>\n",
       "  <tbody>\n",
       "    <tr>\n",
       "      <th>0</th>\n",
       "      <td>1</td>\n",
       "      <td>15634602</td>\n",
       "      <td>Hargrave</td>\n",
       "      <td>619</td>\n",
       "      <td>France</td>\n",
       "      <td>Female</td>\n",
       "      <td>42</td>\n",
       "      <td>2</td>\n",
       "      <td>0.00</td>\n",
       "      <td>1</td>\n",
       "      <td>1</td>\n",
       "      <td>1</td>\n",
       "      <td>101348.88</td>\n",
       "      <td>1</td>\n",
       "    </tr>\n",
       "    <tr>\n",
       "      <th>1</th>\n",
       "      <td>2</td>\n",
       "      <td>15647311</td>\n",
       "      <td>Hill</td>\n",
       "      <td>608</td>\n",
       "      <td>Spain</td>\n",
       "      <td>Female</td>\n",
       "      <td>41</td>\n",
       "      <td>1</td>\n",
       "      <td>83807.86</td>\n",
       "      <td>1</td>\n",
       "      <td>0</td>\n",
       "      <td>1</td>\n",
       "      <td>112542.58</td>\n",
       "      <td>0</td>\n",
       "    </tr>\n",
       "    <tr>\n",
       "      <th>2</th>\n",
       "      <td>3</td>\n",
       "      <td>15619304</td>\n",
       "      <td>Onio</td>\n",
       "      <td>502</td>\n",
       "      <td>France</td>\n",
       "      <td>Female</td>\n",
       "      <td>42</td>\n",
       "      <td>8</td>\n",
       "      <td>159660.80</td>\n",
       "      <td>3</td>\n",
       "      <td>1</td>\n",
       "      <td>0</td>\n",
       "      <td>113931.57</td>\n",
       "      <td>1</td>\n",
       "    </tr>\n",
       "    <tr>\n",
       "      <th>3</th>\n",
       "      <td>4</td>\n",
       "      <td>15701354</td>\n",
       "      <td>Boni</td>\n",
       "      <td>699</td>\n",
       "      <td>France</td>\n",
       "      <td>Female</td>\n",
       "      <td>39</td>\n",
       "      <td>1</td>\n",
       "      <td>0.00</td>\n",
       "      <td>2</td>\n",
       "      <td>0</td>\n",
       "      <td>0</td>\n",
       "      <td>93826.63</td>\n",
       "      <td>0</td>\n",
       "    </tr>\n",
       "    <tr>\n",
       "      <th>4</th>\n",
       "      <td>5</td>\n",
       "      <td>15737888</td>\n",
       "      <td>Mitchell</td>\n",
       "      <td>850</td>\n",
       "      <td>Spain</td>\n",
       "      <td>Female</td>\n",
       "      <td>43</td>\n",
       "      <td>2</td>\n",
       "      <td>125510.82</td>\n",
       "      <td>1</td>\n",
       "      <td>1</td>\n",
       "      <td>1</td>\n",
       "      <td>79084.10</td>\n",
       "      <td>0</td>\n",
       "    </tr>\n",
       "  </tbody>\n",
       "</table>\n",
       "</div>"
      ],
      "text/plain": [
       "   RowNumber  CustomerId   Surname  CreditScore Geography  Gender  Age  \\\n",
       "0          1    15634602  Hargrave          619    France  Female   42   \n",
       "1          2    15647311      Hill          608     Spain  Female   41   \n",
       "2          3    15619304      Onio          502    France  Female   42   \n",
       "3          4    15701354      Boni          699    France  Female   39   \n",
       "4          5    15737888  Mitchell          850     Spain  Female   43   \n",
       "\n",
       "   Tenure    Balance  NumOfProducts  HasCrCard  IsActiveMember  \\\n",
       "0       2       0.00              1          1               1   \n",
       "1       1   83807.86              1          0               1   \n",
       "2       8  159660.80              3          1               0   \n",
       "3       1       0.00              2          0               0   \n",
       "4       2  125510.82              1          1               1   \n",
       "\n",
       "   EstimatedSalary  Exited  \n",
       "0        101348.88       1  \n",
       "1        112542.58       0  \n",
       "2        113931.57       1  \n",
       "3         93826.63       0  \n",
       "4         79084.10       0  "
      ]
     },
     "execution_count": 2,
     "metadata": {},
     "output_type": "execute_result"
    }
   ],
   "source": [
    "df=pd.read_csv('Churn_Modelling.csv')\n",
    "df.head()"
   ]
  },
  {
   "cell_type": "code",
   "execution_count": 3,
   "metadata": {
    "colab": {
     "base_uri": "https://localhost:8080/"
    },
    "id": "gxc7jabpyXJI",
    "outputId": "a580a38a-802a-4d20-9651-2052e9533108"
   },
   "outputs": [
    {
     "name": "stdout",
     "output_type": "stream",
     "text": [
      "<class 'pandas.core.frame.DataFrame'>\n",
      "RangeIndex: 10000 entries, 0 to 9999\n",
      "Data columns (total 14 columns):\n",
      " #   Column           Non-Null Count  Dtype  \n",
      "---  ------           --------------  -----  \n",
      " 0   RowNumber        10000 non-null  int64  \n",
      " 1   CustomerId       10000 non-null  int64  \n",
      " 2   Surname          10000 non-null  object \n",
      " 3   CreditScore      10000 non-null  int64  \n",
      " 4   Geography        10000 non-null  object \n",
      " 5   Gender           10000 non-null  object \n",
      " 6   Age              10000 non-null  int64  \n",
      " 7   Tenure           10000 non-null  int64  \n",
      " 8   Balance          10000 non-null  float64\n",
      " 9   NumOfProducts    10000 non-null  int64  \n",
      " 10  HasCrCard        10000 non-null  int64  \n",
      " 11  IsActiveMember   10000 non-null  int64  \n",
      " 12  EstimatedSalary  10000 non-null  float64\n",
      " 13  Exited           10000 non-null  int64  \n",
      "dtypes: float64(2), int64(9), object(3)\n",
      "memory usage: 1.1+ MB\n"
     ]
    }
   ],
   "source": [
    "df.info()"
   ]
  },
  {
   "cell_type": "code",
   "execution_count": 4,
   "metadata": {
    "colab": {
     "base_uri": "https://localhost:8080/"
    },
    "id": "WmqGtwJZyXJK",
    "outputId": "d2fbc3ee-a06d-4f91-f2d4-d9c27353e410"
   },
   "outputs": [
    {
     "data": {
      "text/plain": [
       "0"
      ]
     },
     "execution_count": 4,
     "metadata": {},
     "output_type": "execute_result"
    }
   ],
   "source": [
    "#  Checking missing values in dataset\n",
    "df.isnull().sum().sum()"
   ]
  },
  {
   "cell_type": "code",
   "execution_count": 5,
   "metadata": {
    "colab": {
     "base_uri": "https://localhost:8080/"
    },
    "id": "N_4kZ8kwyXJM",
    "outputId": "0732b139-d486-4281-dce7-726bd70844e7"
   },
   "outputs": [
    {
     "data": {
      "text/plain": [
       "RowNumber          10000\n",
       "CustomerId         10000\n",
       "Surname             2932\n",
       "CreditScore          460\n",
       "Geography              3\n",
       "Gender                 2\n",
       "Age                   70\n",
       "Tenure                11\n",
       "Balance             6382\n",
       "NumOfProducts          4\n",
       "HasCrCard              2\n",
       "IsActiveMember         2\n",
       "EstimatedSalary     9999\n",
       "Exited                 2\n",
       "dtype: int64"
      ]
     },
     "execution_count": 5,
     "metadata": {},
     "output_type": "execute_result"
    }
   ],
   "source": [
    "# Checking unique values in a column to categorize into continuous and categorical columns.\n",
    "df.nunique()"
   ]
  },
  {
   "cell_type": "code",
   "execution_count": 6,
   "metadata": {
    "id": "XiGYEEpQyXJO"
   },
   "outputs": [],
   "source": [
    "# Dropping columns which are not necessary for prediction\n",
    "df = df.drop([\"RowNumber\", \"CustomerId\", \"Surname\"], axis = 1)"
   ]
  },
  {
   "cell_type": "code",
   "execution_count": 7,
   "metadata": {
    "colab": {
     "base_uri": "https://localhost:8080/"
    },
    "id": "9qYAevdyyXJP",
    "outputId": "0b764b57-2dd4-4434-edaf-fd7fa608895b"
   },
   "outputs": [
    {
     "data": {
      "text/plain": [
       "(10000, 11)"
      ]
     },
     "execution_count": 7,
     "metadata": {},
     "output_type": "execute_result"
    }
   ],
   "source": [
    "df.shape"
   ]
  },
  {
   "cell_type": "code",
   "execution_count": 8,
   "metadata": {
    "colab": {
     "base_uri": "https://localhost:8080/"
    },
    "id": "fLP8jPV1yXJR",
    "outputId": "102478d8-12a9-42db-a761-d7461e097302"
   },
   "outputs": [
    {
     "data": {
      "text/plain": [
       "CreditScore          int64\n",
       "Geography           object\n",
       "Gender              object\n",
       "Age                  int64\n",
       "Tenure               int64\n",
       "Balance            float64\n",
       "NumOfProducts        int64\n",
       "HasCrCard            int64\n",
       "IsActiveMember       int64\n",
       "EstimatedSalary    float64\n",
       "Exited               int64\n",
       "dtype: object"
      ]
     },
     "execution_count": 8,
     "metadata": {},
     "output_type": "execute_result"
    }
   ],
   "source": [
    "df.dtypes"
   ]
  },
  {
   "cell_type": "markdown",
   "metadata": {},
   "source": [
    "## 2. Exploratory Data Analysis¶"
   ]
  },
  {
   "cell_type": "code",
   "execution_count": 9,
   "metadata": {
    "colab": {
     "base_uri": "https://localhost:8080/",
     "height": 432
    },
    "id": "kKslNthhyXJS",
    "outputId": "76e41743-f0b8-4052-f10e-38ecd170b204"
   },
   "outputs": [
    {
     "data": {
      "image/png": "[encoded data removed]",
      "text/plain": [
       "<Figure size 648x504 with 1 Axes>"
      ]
     },
     "metadata": {},
     "output_type": "display_data"
    }
   ],
   "source": [
    "labels = 'Exited', 'Retained'\n",
    "sizes = [df.Exited[df['Exited']==1].count(), df.Exited[df['Exited']==0].count()]\n",
    "explode = (0, 0.1)\n",
    "fig1, ax1 = plt.subplots(figsize=(9, 7))\n",
    "ax1.pie(sizes, explode=explode, labels=labels, autopct='%1.1f%%',\n",
    "        shadow=True, startangle=90)\n",
    "ax1.axis('equal')\n",
    "plt.title(\"Proportion of customer churned and retained\", size = 20)\n",
    "plt.show()"
   ]
  },
  {
   "cell_type": "markdown",
   "metadata": {},
   "source": [
    "### From above pie chart,we can see that around 20% of customers had churned i.e exited and 80% retained.This shows that our dataset is a little imbalanced so we have to predict customer churn with a good accuracy as this 20% customers are of more interest to the bank. "
   ]
  },
  {
   "cell_type": "markdown",
   "metadata": {},
   "source": [
    "### Now visualizing countplots for categorical columns."
   ]
  },
  {
   "cell_type": "code",
   "execution_count": 10,
   "metadata": {
    "colab": {
     "base_uri": "https://localhost:8080/",
     "height": 296
    },
    "id": "zCA_idbnyXJU",
    "outputId": "2ddb9b9e-fd7f-493a-cdd3-87f13eb1b30a",
    "scrolled": true
   },
   "outputs": [
    {
     "data": {
      "text/plain": [
       "Text(0.5, 1.0, 'Countplot-Geography Column')"
      ]
     },
     "execution_count": 10,
     "metadata": {},
     "output_type": "execute_result"
    },
    {
     "data": {
      "image/png": "[encoded data removed]",
      "text/plain": [
       "<Figure size 432x288 with 1 Axes>"
      ]
     },
     "metadata": {
      "needs_background": "light"
     },
     "output_type": "display_data"
    }
   ],
   "source": [
    "sns.countplot(x='Geography', hue = 'Exited',data = df).set_title('Countplot-Geography Column')\n"
   ]
  },
  {
   "cell_type": "code",
   "execution_count": 11,
   "metadata": {
    "colab": {
     "base_uri": "https://localhost:8080/",
     "height": 296
    },
    "id": "9x6j33f8yXJV",
    "outputId": "860da537-b725-4b9b-c85c-46672640f748"
   },
   "outputs": [
    {
     "data": {
      "text/plain": [
       "Text(0.5, 1.0, 'Countplot-Gender Column')"
      ]
     },
     "execution_count": 11,
     "metadata": {},
     "output_type": "execute_result"
    },
    {
     "data": {
      "image/png": "[encoded data removed]",
      "text/plain": [
       "<Figure size 432x288 with 1 Axes>"
      ]
     },
     "metadata": {
      "needs_background": "light"
     },
     "output_type": "display_data"
    }
   ],
   "source": [
    "sns.countplot(x='Gender', hue = 'Exited',data = df).set_title('Countplot-Gender Column')"
   ]
  },
  {
   "cell_type": "code",
   "execution_count": 12,
   "metadata": {
    "colab": {
     "base_uri": "https://localhost:8080/",
     "height": 296
    },
    "id": "RZbzeVtlyXJW",
    "outputId": "9fa76f34-73d9-4002-a7ba-40186d1ac1d4"
   },
   "outputs": [
    {
     "data": {
      "text/plain": [
       "Text(0.5, 1.0, 'Countplot-HasCreditCard Column')"
      ]
     },
     "execution_count": 12,
     "metadata": {},
     "output_type": "execute_result"
    },
    {
     "data": {
      "image/png": "[encoded data removed]",
      "text/plain": [
       "<Figure size 432x288 with 1 Axes>"
      ]
     },
     "metadata": {
      "needs_background": "light"
     },
     "output_type": "display_data"
    }
   ],
   "source": [
    "sns.countplot(x='HasCrCard', hue = 'Exited',data = df).set_title('Countplot-HasCreditCard Column')"
   ]
  },
  {
   "cell_type": "code",
   "execution_count": 13,
   "metadata": {
    "colab": {
     "base_uri": "https://localhost:8080/",
     "height": 296
    },
    "id": "KlSFo7mRyXJX",
    "outputId": "2d787ba1-bf57-4460-c755-2f81cb504eac"
   },
   "outputs": [
    {
     "data": {
      "text/plain": [
       "Text(0.5, 1.0, 'Countplot-IsActiveMember Column')"
      ]
     },
     "execution_count": 13,
     "metadata": {},
     "output_type": "execute_result"
    },
    {
     "data": {
      "image/png": "[encoded data removed]",
      "text/plain": [
       "<Figure size 432x288 with 1 Axes>"
      ]
     },
     "metadata": {
      "needs_background": "light"
     },
     "output_type": "display_data"
    }
   ],
   "source": [
    "sns.countplot(x='IsActiveMember', hue = 'Exited',data = df).set_title('Countplot-IsActiveMember Column')"
   ]
  },
  {
   "cell_type": "markdown",
   "metadata": {},
   "source": [
    "### From the above countplots we can infer that-\n",
    "\n",
    "#### 1.Total umber of customers who retained is highest from France and those who exited are highest from Germany,which means the bank needs to focus more on customers from Germany followed by France so that they don't churn.\n",
    "#### 2. The proportion of female customers churning is greater than that of male customers.\n",
    "#### 3. Suprisingly,coustomers who had credit card churned more which can be a coincidence.\n",
    "#### 4. As usual,the inactive members churned more. "
   ]
  },
  {
   "cell_type": "code",
   "execution_count": 14,
   "metadata": {
    "colab": {
     "base_uri": "https://localhost:8080/",
     "height": 596
    },
    "id": "ReifB7siyXJX",
    "outputId": "72913bcd-1dab-4c48-a204-1527cf3e32d2"
   },
   "outputs": [
    {
     "data": {
      "text/plain": [
       "<matplotlib.axes._subplots.AxesSubplot at 0x2b32ba1a280>"
      ]
     },
     "execution_count": 14,
     "metadata": {},
     "output_type": "execute_result"
    },
    {
     "data": {
      "image/png": "[encoded data removed]",
      "text/plain": [
       "<Figure size 1440x864 with 6 Axes>"
      ]
     },
     "metadata": {
      "needs_background": "light"
     },
     "output_type": "display_data"
    }
   ],
   "source": [
    " # Relations based on the continuous data attributes\n",
    "fig, axarr = plt.subplots(3, 2, figsize=(20, 12))\n",
    "sns.boxplot(y='CreditScore',x = 'Exited', hue = 'Exited',data = df, ax=axarr[0][0]).set_title('Boxplot- Credit Score Column')\n",
    "sns.boxplot(y='Age',x = 'Exited', hue = 'Exited',data = df , ax=axarr[0][1]).set_title('Boxplot- Age Column')\n",
    "sns.boxplot(y='Tenure',x = 'Exited', hue = 'Exited',data = df, ax=axarr[1][0])\n",
    "sns.boxplot(y='Balance',x = 'Exited', hue = 'Exited',data = df, ax=axarr[1][1])\n",
    "sns.boxplot(y='NumOfProducts',x = 'Exited', hue = 'Exited',data = df, ax=axarr[2][0])\n",
    "sns.boxplot(y='EstimatedSalary',x = 'Exited', hue = 'Exited',data = df, ax=axarr[2][1])"
   ]
  },
  {
   "cell_type": "markdown",
   "metadata": {},
   "source": [
    "### From the above boxplots we can infer that-\n",
    "\n",
    "#### -- There is no significant difference in Credit score,estimated salary and number of products they possess  between customers who churned and who don't.\n",
    "#### -- The older customers are churning more than the young ones which indicates that the bank need to focus on older customers more.\n",
    "#### -- Customers with tenure period with bank either too less or too more tends to churn more.\n",
    "#### -- Customers who churned generally have more bank balance which is a bad indications as it will lead to capital deficiency in the bank."
   ]
  },
  {
   "cell_type": "markdown",
   "metadata": {
    "id": "hSoF4g_EyXJY"
   },
   "source": [
    "## 3. Feature Engineering"
   ]
  },
  {
   "cell_type": "markdown",
   "metadata": {},
   "source": [
    "### We would like to add features that are likely to have an impact on the probability of churning."
   ]
  },
  {
   "cell_type": "code",
   "execution_count": 15,
   "metadata": {
    "colab": {
     "base_uri": "https://localhost:8080/",
     "height": 300
    },
    "id": "Tesoz5L0yXJZ",
    "outputId": "78e713a5-ea18-4e50-b486-0e676f683a41"
   },
   "outputs": [
    {
     "data": {
      "text/plain": [
       "(-1.0, 5.0)"
      ]
     },
     "execution_count": 15,
     "metadata": {},
     "output_type": "execute_result"
    },
    {
     "data": {
      "image/png": "[encoded data removed]",
      "text/plain": [
       "<Figure size 432x288 with 1 Axes>"
      ]
     },
     "metadata": {
      "needs_background": "light"
     },
     "output_type": "display_data"
    }
   ],
   "source": [
    "# 1st Attribute - Balance Salary Ratio\n",
    "df['BalanceSalaryRatio'] = df.Balance/df.EstimatedSalary\n",
    "sns.boxplot(y='BalanceSalaryRatio',x = 'Exited', hue = 'Exited',data = df)\n",
    "plt.ylim(-1, 5)"
   ]
  },
  {
   "cell_type": "markdown",
   "metadata": {},
   "source": [
    "### Clearly we can see that customers with high BalanceSalaryRatio is churning more,which balance or salary feature didn't showed up."
   ]
  },
  {
   "cell_type": "code",
   "execution_count": 16,
   "metadata": {
    "colab": {
     "base_uri": "https://localhost:8080/",
     "height": 283
    },
    "id": "wcy0krxayXJa",
    "outputId": "4b297d6a-dc6f-4fad-dd20-526939f37b98"
   },
   "outputs": [
    {
     "data": {
      "image/png": "[encoded data removed]",
      "text/plain": [
       "<Figure size 432x288 with 1 Axes>"
      ]
     },
     "metadata": {
      "needs_background": "light"
     },
     "output_type": "display_data"
    }
   ],
   "source": [
    "#  2nd Attribute-Tenure By Age\n",
    "df['TenureByAge'] = df.Tenure/(df.Age)\n",
    "sns.boxplot(y='TenureByAge',x = 'Exited', hue = 'Exited',data = df)\n",
    "plt.ylim(-0.2, 0.7)\n",
    "plt.show()"
   ]
  },
  {
   "cell_type": "code",
   "execution_count": 17,
   "metadata": {
    "colab": {
     "base_uri": "https://localhost:8080/",
     "height": 279
    },
    "id": "wr9EAwnbyXJc",
    "outputId": "3052f2f6-963f-4685-846e-25753d38af0c"
   },
   "outputs": [
    {
     "data": {
      "image/png": "[encoded data removed]",
      "text/plain": [
       "<Figure size 432x288 with 1 Axes>"
      ]
     },
     "metadata": {
      "needs_background": "light"
     },
     "output_type": "display_data"
    }
   ],
   "source": [
    "# 3rd Attribute- Credit Score Given Age\n",
    "df['CreditScoreGivenAge'] = df.CreditScore/(df.Age)\n",
    "sns.boxplot(y='CreditScoreGivenAge',x = 'Exited', hue = 'Exited',data = df)\n",
    "plt.show()"
   ]
  },
  {
   "cell_type": "code",
   "execution_count": 18,
   "metadata": {
    "colab": {
     "base_uri": "https://localhost:8080/",
     "height": 224
    },
    "id": "5ayTT4nYyXJd",
    "outputId": "ad6bd2a1-a08f-462e-e0e8-847227fd363d"
   },
   "outputs": [
    {
     "data": {
      "text/html": [
       "<div>\n",
       "<style scoped>\n",
       "    .dataframe tbody tr th:only-of-type {\n",
       "        vertical-align: middle;\n",
       "    }\n",
       "\n",
       "    .dataframe tbody tr th {\n",
       "        vertical-align: top;\n",
       "    }\n",
       "\n",
       "    .dataframe thead th {\n",
       "        text-align: right;\n",
       "    }\n",
       "</style>\n",
       "<table border=\"1\" class=\"dataframe\">\n",
       "  <thead>\n",
       "    <tr style=\"text-align: right;\">\n",
       "      <th></th>\n",
       "      <th>CreditScore</th>\n",
       "      <th>Geography</th>\n",
       "      <th>Gender</th>\n",
       "      <th>Age</th>\n",
       "      <th>Tenure</th>\n",
       "      <th>Balance</th>\n",
       "      <th>NumOfProducts</th>\n",
       "      <th>HasCrCard</th>\n",
       "      <th>IsActiveMember</th>\n",
       "      <th>EstimatedSalary</th>\n",
       "      <th>Exited</th>\n",
       "      <th>BalanceSalaryRatio</th>\n",
       "      <th>TenureByAge</th>\n",
       "      <th>CreditScoreGivenAge</th>\n",
       "    </tr>\n",
       "  </thead>\n",
       "  <tbody>\n",
       "    <tr>\n",
       "      <th>0</th>\n",
       "      <td>619</td>\n",
       "      <td>France</td>\n",
       "      <td>Female</td>\n",
       "      <td>42</td>\n",
       "      <td>2</td>\n",
       "      <td>0.00</td>\n",
       "      <td>1</td>\n",
       "      <td>1</td>\n",
       "      <td>1</td>\n",
       "      <td>101348.88</td>\n",
       "      <td>1</td>\n",
       "      <td>0.000000</td>\n",
       "      <td>0.047619</td>\n",
       "      <td>14.738095</td>\n",
       "    </tr>\n",
       "    <tr>\n",
       "      <th>1</th>\n",
       "      <td>608</td>\n",
       "      <td>Spain</td>\n",
       "      <td>Female</td>\n",
       "      <td>41</td>\n",
       "      <td>1</td>\n",
       "      <td>83807.86</td>\n",
       "      <td>1</td>\n",
       "      <td>0</td>\n",
       "      <td>1</td>\n",
       "      <td>112542.58</td>\n",
       "      <td>0</td>\n",
       "      <td>0.744677</td>\n",
       "      <td>0.024390</td>\n",
       "      <td>14.829268</td>\n",
       "    </tr>\n",
       "    <tr>\n",
       "      <th>2</th>\n",
       "      <td>502</td>\n",
       "      <td>France</td>\n",
       "      <td>Female</td>\n",
       "      <td>42</td>\n",
       "      <td>8</td>\n",
       "      <td>159660.80</td>\n",
       "      <td>3</td>\n",
       "      <td>1</td>\n",
       "      <td>0</td>\n",
       "      <td>113931.57</td>\n",
       "      <td>1</td>\n",
       "      <td>1.401375</td>\n",
       "      <td>0.190476</td>\n",
       "      <td>11.952381</td>\n",
       "    </tr>\n",
       "    <tr>\n",
       "      <th>3</th>\n",
       "      <td>699</td>\n",
       "      <td>France</td>\n",
       "      <td>Female</td>\n",
       "      <td>39</td>\n",
       "      <td>1</td>\n",
       "      <td>0.00</td>\n",
       "      <td>2</td>\n",
       "      <td>0</td>\n",
       "      <td>0</td>\n",
       "      <td>93826.63</td>\n",
       "      <td>0</td>\n",
       "      <td>0.000000</td>\n",
       "      <td>0.025641</td>\n",
       "      <td>17.923077</td>\n",
       "    </tr>\n",
       "    <tr>\n",
       "      <th>4</th>\n",
       "      <td>850</td>\n",
       "      <td>Spain</td>\n",
       "      <td>Female</td>\n",
       "      <td>43</td>\n",
       "      <td>2</td>\n",
       "      <td>125510.82</td>\n",
       "      <td>1</td>\n",
       "      <td>1</td>\n",
       "      <td>1</td>\n",
       "      <td>79084.10</td>\n",
       "      <td>0</td>\n",
       "      <td>1.587055</td>\n",
       "      <td>0.046512</td>\n",
       "      <td>19.767442</td>\n",
       "    </tr>\n",
       "  </tbody>\n",
       "</table>\n",
       "</div>"
      ],
      "text/plain": [
       "   CreditScore Geography  Gender  Age  Tenure    Balance  NumOfProducts  \\\n",
       "0          619    France  Female   42       2       0.00              1   \n",
       "1          608     Spain  Female   41       1   83807.86              1   \n",
       "2          502    France  Female   42       8  159660.80              3   \n",
       "3          699    France  Female   39       1       0.00              2   \n",
       "4          850     Spain  Female   43       2  125510.82              1   \n",
       "\n",
       "   HasCrCard  IsActiveMember  EstimatedSalary  Exited  BalanceSalaryRatio  \\\n",
       "0          1               1        101348.88       1            0.000000   \n",
       "1          0               1        112542.58       0            0.744677   \n",
       "2          1               0        113931.57       1            1.401375   \n",
       "3          0               0         93826.63       0            0.000000   \n",
       "4          1               1         79084.10       0            1.587055   \n",
       "\n",
       "   TenureByAge  CreditScoreGivenAge  \n",
       "0     0.047619            14.738095  \n",
       "1     0.024390            14.829268  \n",
       "2     0.190476            11.952381  \n",
       "3     0.025641            17.923077  \n",
       "4     0.046512            19.767442  "
      ]
     },
     "execution_count": 18,
     "metadata": {},
     "output_type": "execute_result"
    }
   ],
   "source": [
    "df.head()"
   ]
  },
  {
   "cell_type": "code",
   "execution_count": 19,
   "metadata": {},
   "outputs": [
    {
     "data": {
      "text/plain": [
       "(10000, 14)"
      ]
     },
     "execution_count": 19,
     "metadata": {},
     "output_type": "execute_result"
    }
   ],
   "source": [
    "df.shape"
   ]
  },
  {
   "cell_type": "markdown",
   "metadata": {},
   "source": [
    "## 4. Data Preparation for the Model fitting"
   ]
  },
  {
   "cell_type": "code",
   "execution_count": 20,
   "metadata": {
    "colab": {
     "base_uri": "https://localhost:8080/",
     "height": 224
    },
    "id": "qJ7n9-ofyXJe",
    "outputId": "29bbc6f4-07e8-417b-e002-919f7e5d1916"
   },
   "outputs": [
    {
     "data": {
      "text/html": [
       "<div>\n",
       "<style scoped>\n",
       "    .dataframe tbody tr th:only-of-type {\n",
       "        vertical-align: middle;\n",
       "    }\n",
       "\n",
       "    .dataframe tbody tr th {\n",
       "        vertical-align: top;\n",
       "    }\n",
       "\n",
       "    .dataframe thead th {\n",
       "        text-align: right;\n",
       "    }\n",
       "</style>\n",
       "<table border=\"1\" class=\"dataframe\">\n",
       "  <thead>\n",
       "    <tr style=\"text-align: right;\">\n",
       "      <th></th>\n",
       "      <th>Exited</th>\n",
       "      <th>CreditScore</th>\n",
       "      <th>Age</th>\n",
       "      <th>Tenure</th>\n",
       "      <th>Balance</th>\n",
       "      <th>NumOfProducts</th>\n",
       "      <th>EstimatedSalary</th>\n",
       "      <th>BalanceSalaryRatio</th>\n",
       "      <th>TenureByAge</th>\n",
       "      <th>CreditScoreGivenAge</th>\n",
       "      <th>HasCrCard</th>\n",
       "      <th>IsActiveMember</th>\n",
       "      <th>Geography</th>\n",
       "      <th>Gender</th>\n",
       "    </tr>\n",
       "  </thead>\n",
       "  <tbody>\n",
       "    <tr>\n",
       "      <th>0</th>\n",
       "      <td>1</td>\n",
       "      <td>619</td>\n",
       "      <td>42</td>\n",
       "      <td>2</td>\n",
       "      <td>0.00</td>\n",
       "      <td>1</td>\n",
       "      <td>101348.88</td>\n",
       "      <td>0.000000</td>\n",
       "      <td>0.047619</td>\n",
       "      <td>14.738095</td>\n",
       "      <td>1</td>\n",
       "      <td>1</td>\n",
       "      <td>France</td>\n",
       "      <td>Female</td>\n",
       "    </tr>\n",
       "    <tr>\n",
       "      <th>1</th>\n",
       "      <td>0</td>\n",
       "      <td>608</td>\n",
       "      <td>41</td>\n",
       "      <td>1</td>\n",
       "      <td>83807.86</td>\n",
       "      <td>1</td>\n",
       "      <td>112542.58</td>\n",
       "      <td>0.744677</td>\n",
       "      <td>0.024390</td>\n",
       "      <td>14.829268</td>\n",
       "      <td>0</td>\n",
       "      <td>1</td>\n",
       "      <td>Spain</td>\n",
       "      <td>Female</td>\n",
       "    </tr>\n",
       "    <tr>\n",
       "      <th>2</th>\n",
       "      <td>1</td>\n",
       "      <td>502</td>\n",
       "      <td>42</td>\n",
       "      <td>8</td>\n",
       "      <td>159660.80</td>\n",
       "      <td>3</td>\n",
       "      <td>113931.57</td>\n",
       "      <td>1.401375</td>\n",
       "      <td>0.190476</td>\n",
       "      <td>11.952381</td>\n",
       "      <td>1</td>\n",
       "      <td>0</td>\n",
       "      <td>France</td>\n",
       "      <td>Female</td>\n",
       "    </tr>\n",
       "    <tr>\n",
       "      <th>3</th>\n",
       "      <td>0</td>\n",
       "      <td>699</td>\n",
       "      <td>39</td>\n",
       "      <td>1</td>\n",
       "      <td>0.00</td>\n",
       "      <td>2</td>\n",
       "      <td>93826.63</td>\n",
       "      <td>0.000000</td>\n",
       "      <td>0.025641</td>\n",
       "      <td>17.923077</td>\n",
       "      <td>0</td>\n",
       "      <td>0</td>\n",
       "      <td>France</td>\n",
       "      <td>Female</td>\n",
       "    </tr>\n",
       "    <tr>\n",
       "      <th>4</th>\n",
       "      <td>0</td>\n",
       "      <td>850</td>\n",
       "      <td>43</td>\n",
       "      <td>2</td>\n",
       "      <td>125510.82</td>\n",
       "      <td>1</td>\n",
       "      <td>79084.10</td>\n",
       "      <td>1.587055</td>\n",
       "      <td>0.046512</td>\n",
       "      <td>19.767442</td>\n",
       "      <td>1</td>\n",
       "      <td>1</td>\n",
       "      <td>Spain</td>\n",
       "      <td>Female</td>\n",
       "    </tr>\n",
       "  </tbody>\n",
       "</table>\n",
       "</div>"
      ],
      "text/plain": [
       "   Exited  CreditScore  Age  Tenure    Balance  NumOfProducts  \\\n",
       "0       1          619   42       2       0.00              1   \n",
       "1       0          608   41       1   83807.86              1   \n",
       "2       1          502   42       8  159660.80              3   \n",
       "3       0          699   39       1       0.00              2   \n",
       "4       0          850   43       2  125510.82              1   \n",
       "\n",
       "   EstimatedSalary  BalanceSalaryRatio  TenureByAge  CreditScoreGivenAge  \\\n",
       "0        101348.88            0.000000     0.047619            14.738095   \n",
       "1        112542.58            0.744677     0.024390            14.829268   \n",
       "2        113931.57            1.401375     0.190476            11.952381   \n",
       "3         93826.63            0.000000     0.025641            17.923077   \n",
       "4         79084.10            1.587055     0.046512            19.767442   \n",
       "\n",
       "   HasCrCard  IsActiveMember Geography  Gender  \n",
       "0          1               1    France  Female  \n",
       "1          0               1     Spain  Female  \n",
       "2          1               0    France  Female  \n",
       "3          0               0    France  Female  \n",
       "4          1               1     Spain  Female  "
      ]
     },
     "execution_count": 20,
     "metadata": {},
     "output_type": "execute_result"
    }
   ],
   "source": [
    "# Arranging columns by data type for easier manipulation\n",
    "\n",
    "continuous_vars = ['CreditScore',  'Age', 'Tenure', 'Balance','NumOfProducts', 'EstimatedSalary', 'BalanceSalaryRatio',\n",
    "                   'TenureByAge','CreditScoreGivenAge']\n",
    "categorical_vars = ['HasCrCard', 'IsActiveMember','Geography', 'Gender']\n",
    "df = df[['Exited'] + continuous_vars + categorical_vars]\n",
    "df.head()"
   ]
  },
  {
   "cell_type": "markdown",
   "metadata": {},
   "source": [
    "#### Correlation Matrix for continuous attributes"
   ]
  },
  {
   "cell_type": "code",
   "execution_count": 21,
   "metadata": {
    "colab": {
     "base_uri": "https://localhost:8080/",
     "height": 410
    },
    "id": "t7BfY4R5E0_s",
    "outputId": "6f51385a-7bbe-4de4-cf4b-21931acd9eaa"
   },
   "outputs": [
    {
     "data": {
      "image/png": "[encoded data removed]",
      "text/plain": [
       "<Figure size 432x288 with 2 Axes>"
      ]
     },
     "metadata": {},
     "output_type": "display_data"
    }
   ],
   "source": [
    "sns.set()\n",
    "sns.set(font_scale = 1.25)\n",
    "sns.heatmap(df[continuous_vars].corr(), annot = True,fmt = \".1f\")\n",
    "plt.show()"
   ]
  },
  {
   "cell_type": "markdown",
   "metadata": {},
   "source": [
    "### We can see from the correlation matrix that only the columns which we have created have some significant correlation with columns they are made from."
   ]
  },
  {
   "cell_type": "code",
   "execution_count": 22,
   "metadata": {
    "colab": {
     "base_uri": "https://localhost:8080/",
     "height": 224
    },
    "id": "_9O4yI1jyXJf",
    "outputId": "8996d9e1-c82a-4c5a-bbc2-9c0885d1be96"
   },
   "outputs": [
    {
     "data": {
      "text/html": [
       "<div>\n",
       "<style scoped>\n",
       "    .dataframe tbody tr th:only-of-type {\n",
       "        vertical-align: middle;\n",
       "    }\n",
       "\n",
       "    .dataframe tbody tr th {\n",
       "        vertical-align: top;\n",
       "    }\n",
       "\n",
       "    .dataframe thead th {\n",
       "        text-align: right;\n",
       "    }\n",
       "</style>\n",
       "<table border=\"1\" class=\"dataframe\">\n",
       "  <thead>\n",
       "    <tr style=\"text-align: right;\">\n",
       "      <th></th>\n",
       "      <th>Exited</th>\n",
       "      <th>CreditScore</th>\n",
       "      <th>Age</th>\n",
       "      <th>Tenure</th>\n",
       "      <th>Balance</th>\n",
       "      <th>NumOfProducts</th>\n",
       "      <th>EstimatedSalary</th>\n",
       "      <th>BalanceSalaryRatio</th>\n",
       "      <th>TenureByAge</th>\n",
       "      <th>CreditScoreGivenAge</th>\n",
       "      <th>HasCrCard</th>\n",
       "      <th>IsActiveMember</th>\n",
       "      <th>Geography</th>\n",
       "      <th>Gender</th>\n",
       "    </tr>\n",
       "  </thead>\n",
       "  <tbody>\n",
       "    <tr>\n",
       "      <th>0</th>\n",
       "      <td>1</td>\n",
       "      <td>619</td>\n",
       "      <td>42</td>\n",
       "      <td>2</td>\n",
       "      <td>0.00</td>\n",
       "      <td>1</td>\n",
       "      <td>101348.88</td>\n",
       "      <td>0.000000</td>\n",
       "      <td>0.047619</td>\n",
       "      <td>14.738095</td>\n",
       "      <td>1</td>\n",
       "      <td>1</td>\n",
       "      <td>France</td>\n",
       "      <td>Female</td>\n",
       "    </tr>\n",
       "    <tr>\n",
       "      <th>1</th>\n",
       "      <td>0</td>\n",
       "      <td>608</td>\n",
       "      <td>41</td>\n",
       "      <td>1</td>\n",
       "      <td>83807.86</td>\n",
       "      <td>1</td>\n",
       "      <td>112542.58</td>\n",
       "      <td>0.744677</td>\n",
       "      <td>0.024390</td>\n",
       "      <td>14.829268</td>\n",
       "      <td>-1</td>\n",
       "      <td>1</td>\n",
       "      <td>Spain</td>\n",
       "      <td>Female</td>\n",
       "    </tr>\n",
       "    <tr>\n",
       "      <th>2</th>\n",
       "      <td>1</td>\n",
       "      <td>502</td>\n",
       "      <td>42</td>\n",
       "      <td>8</td>\n",
       "      <td>159660.80</td>\n",
       "      <td>3</td>\n",
       "      <td>113931.57</td>\n",
       "      <td>1.401375</td>\n",
       "      <td>0.190476</td>\n",
       "      <td>11.952381</td>\n",
       "      <td>1</td>\n",
       "      <td>-1</td>\n",
       "      <td>France</td>\n",
       "      <td>Female</td>\n",
       "    </tr>\n",
       "    <tr>\n",
       "      <th>3</th>\n",
       "      <td>0</td>\n",
       "      <td>699</td>\n",
       "      <td>39</td>\n",
       "      <td>1</td>\n",
       "      <td>0.00</td>\n",
       "      <td>2</td>\n",
       "      <td>93826.63</td>\n",
       "      <td>0.000000</td>\n",
       "      <td>0.025641</td>\n",
       "      <td>17.923077</td>\n",
       "      <td>-1</td>\n",
       "      <td>-1</td>\n",
       "      <td>France</td>\n",
       "      <td>Female</td>\n",
       "    </tr>\n",
       "    <tr>\n",
       "      <th>4</th>\n",
       "      <td>0</td>\n",
       "      <td>850</td>\n",
       "      <td>43</td>\n",
       "      <td>2</td>\n",
       "      <td>125510.82</td>\n",
       "      <td>1</td>\n",
       "      <td>79084.10</td>\n",
       "      <td>1.587055</td>\n",
       "      <td>0.046512</td>\n",
       "      <td>19.767442</td>\n",
       "      <td>1</td>\n",
       "      <td>1</td>\n",
       "      <td>Spain</td>\n",
       "      <td>Female</td>\n",
       "    </tr>\n",
       "  </tbody>\n",
       "</table>\n",
       "</div>"
      ],
      "text/plain": [
       "   Exited  CreditScore  Age  Tenure    Balance  NumOfProducts  \\\n",
       "0       1          619   42       2       0.00              1   \n",
       "1       0          608   41       1   83807.86              1   \n",
       "2       1          502   42       8  159660.80              3   \n",
       "3       0          699   39       1       0.00              2   \n",
       "4       0          850   43       2  125510.82              1   \n",
       "\n",
       "   EstimatedSalary  BalanceSalaryRatio  TenureByAge  CreditScoreGivenAge  \\\n",
       "0        101348.88            0.000000     0.047619            14.738095   \n",
       "1        112542.58            0.744677     0.024390            14.829268   \n",
       "2        113931.57            1.401375     0.190476            11.952381   \n",
       "3         93826.63            0.000000     0.025641            17.923077   \n",
       "4         79084.10            1.587055     0.046512            19.767442   \n",
       "\n",
       "   HasCrCard  IsActiveMember Geography  Gender  \n",
       "0          1               1    France  Female  \n",
       "1         -1               1     Spain  Female  \n",
       "2          1              -1    France  Female  \n",
       "3         -1              -1    France  Female  \n",
       "4          1               1     Spain  Female  "
      ]
     },
     "execution_count": 22,
     "metadata": {},
     "output_type": "execute_result"
    }
   ],
   "source": [
    "# Changing values of column HasCrCard and IsActiveMember from 0 to -1 so that they will influence negatively to the model instead of no effect.\n",
    "df.loc[df.HasCrCard == 0, 'HasCrCard'] = -1\n",
    "df.loc[df.IsActiveMember == 0, 'IsActiveMember'] = -1\n",
    "df.head()"
   ]
  },
  {
   "cell_type": "markdown",
   "metadata": {},
   "source": [
    "### One-hot encoding categorical columns"
   ]
  },
  {
   "cell_type": "code",
   "execution_count": 23,
   "metadata": {
    "colab": {
     "base_uri": "https://localhost:8080/"
    },
    "id": "y0b46vgGyXJh",
    "outputId": "07dbf99f-8cfa-407e-d8b8-3fbbc131ae73"
   },
   "outputs": [
    {
     "data": {
      "text/plain": [
       "array(['Female', 'Male'], dtype=object)"
      ]
     },
     "execution_count": 23,
     "metadata": {},
     "output_type": "execute_result"
    }
   ],
   "source": [
    "df['Gender'].unique()"
   ]
  },
  {
   "cell_type": "code",
   "execution_count": 24,
   "metadata": {
    "colab": {
     "base_uri": "https://localhost:8080/"
    },
    "id": "QQvaJMxDyXJi",
    "outputId": "f3878bcc-1c30-4b62-9148-f6aa71298c8c"
   },
   "outputs": [
    {
     "data": {
      "text/plain": [
       "array(['France', 'Spain', 'Germany'], dtype=object)"
      ]
     },
     "execution_count": 24,
     "metadata": {},
     "output_type": "execute_result"
    }
   ],
   "source": [
    "df['Geography'].unique()"
   ]
  },
  {
   "cell_type": "code",
   "execution_count": 25,
   "metadata": {
    "id": "VwyVsE2dyXJj"
   },
   "outputs": [],
   "source": [
    "from sklearn.preprocessing import LabelEncoder \n",
    "  \n",
    "le = LabelEncoder() \n",
    "  \n",
    "df['Gender']= le.fit_transform(df['Gender']) \n",
    "df['Geography']= le.fit_transform(df['Geography']) \n",
    "\n",
    "# Gender 0-Female,1-Male\n",
    "# Geography 0-France,1-Germany,2-Spain"
   ]
  },
  {
   "cell_type": "code",
   "execution_count": 26,
   "metadata": {
    "colab": {
     "base_uri": "https://localhost:8080/",
     "height": 224
    },
    "id": "5q998xRbyXJk",
    "outputId": "8aee78cb-4b92-40f6-e68a-bde8125fa477"
   },
   "outputs": [
    {
     "data": {
      "text/html": [
       "<div>\n",
       "<style scoped>\n",
       "    .dataframe tbody tr th:only-of-type {\n",
       "        vertical-align: middle;\n",
       "    }\n",
       "\n",
       "    .dataframe tbody tr th {\n",
       "        vertical-align: top;\n",
       "    }\n",
       "\n",
       "    .dataframe thead th {\n",
       "        text-align: right;\n",
       "    }\n",
       "</style>\n",
       "<table border=\"1\" class=\"dataframe\">\n",
       "  <thead>\n",
       "    <tr style=\"text-align: right;\">\n",
       "      <th></th>\n",
       "      <th>Exited</th>\n",
       "      <th>CreditScore</th>\n",
       "      <th>Age</th>\n",
       "      <th>Tenure</th>\n",
       "      <th>Balance</th>\n",
       "      <th>NumOfProducts</th>\n",
       "      <th>EstimatedSalary</th>\n",
       "      <th>BalanceSalaryRatio</th>\n",
       "      <th>TenureByAge</th>\n",
       "      <th>CreditScoreGivenAge</th>\n",
       "      <th>HasCrCard</th>\n",
       "      <th>IsActiveMember</th>\n",
       "      <th>Geography</th>\n",
       "      <th>Gender</th>\n",
       "    </tr>\n",
       "  </thead>\n",
       "  <tbody>\n",
       "    <tr>\n",
       "      <th>0</th>\n",
       "      <td>1</td>\n",
       "      <td>619</td>\n",
       "      <td>42</td>\n",
       "      <td>2</td>\n",
       "      <td>0.00</td>\n",
       "      <td>1</td>\n",
       "      <td>101348.88</td>\n",
       "      <td>0.000000</td>\n",
       "      <td>0.047619</td>\n",
       "      <td>14.738095</td>\n",
       "      <td>1</td>\n",
       "      <td>1</td>\n",
       "      <td>0</td>\n",
       "      <td>0</td>\n",
       "    </tr>\n",
       "    <tr>\n",
       "      <th>1</th>\n",
       "      <td>0</td>\n",
       "      <td>608</td>\n",
       "      <td>41</td>\n",
       "      <td>1</td>\n",
       "      <td>83807.86</td>\n",
       "      <td>1</td>\n",
       "      <td>112542.58</td>\n",
       "      <td>0.744677</td>\n",
       "      <td>0.024390</td>\n",
       "      <td>14.829268</td>\n",
       "      <td>-1</td>\n",
       "      <td>1</td>\n",
       "      <td>2</td>\n",
       "      <td>0</td>\n",
       "    </tr>\n",
       "    <tr>\n",
       "      <th>2</th>\n",
       "      <td>1</td>\n",
       "      <td>502</td>\n",
       "      <td>42</td>\n",
       "      <td>8</td>\n",
       "      <td>159660.80</td>\n",
       "      <td>3</td>\n",
       "      <td>113931.57</td>\n",
       "      <td>1.401375</td>\n",
       "      <td>0.190476</td>\n",
       "      <td>11.952381</td>\n",
       "      <td>1</td>\n",
       "      <td>-1</td>\n",
       "      <td>0</td>\n",
       "      <td>0</td>\n",
       "    </tr>\n",
       "    <tr>\n",
       "      <th>3</th>\n",
       "      <td>0</td>\n",
       "      <td>699</td>\n",
       "      <td>39</td>\n",
       "      <td>1</td>\n",
       "      <td>0.00</td>\n",
       "      <td>2</td>\n",
       "      <td>93826.63</td>\n",
       "      <td>0.000000</td>\n",
       "      <td>0.025641</td>\n",
       "      <td>17.923077</td>\n",
       "      <td>-1</td>\n",
       "      <td>-1</td>\n",
       "      <td>0</td>\n",
       "      <td>0</td>\n",
       "    </tr>\n",
       "    <tr>\n",
       "      <th>4</th>\n",
       "      <td>0</td>\n",
       "      <td>850</td>\n",
       "      <td>43</td>\n",
       "      <td>2</td>\n",
       "      <td>125510.82</td>\n",
       "      <td>1</td>\n",
       "      <td>79084.10</td>\n",
       "      <td>1.587055</td>\n",
       "      <td>0.046512</td>\n",
       "      <td>19.767442</td>\n",
       "      <td>1</td>\n",
       "      <td>1</td>\n",
       "      <td>2</td>\n",
       "      <td>0</td>\n",
       "    </tr>\n",
       "  </tbody>\n",
       "</table>\n",
       "</div>"
      ],
      "text/plain": [
       "   Exited  CreditScore  Age  Tenure    Balance  NumOfProducts  \\\n",
       "0       1          619   42       2       0.00              1   \n",
       "1       0          608   41       1   83807.86              1   \n",
       "2       1          502   42       8  159660.80              3   \n",
       "3       0          699   39       1       0.00              2   \n",
       "4       0          850   43       2  125510.82              1   \n",
       "\n",
       "   EstimatedSalary  BalanceSalaryRatio  TenureByAge  CreditScoreGivenAge  \\\n",
       "0        101348.88            0.000000     0.047619            14.738095   \n",
       "1        112542.58            0.744677     0.024390            14.829268   \n",
       "2        113931.57            1.401375     0.190476            11.952381   \n",
       "3         93826.63            0.000000     0.025641            17.923077   \n",
       "4         79084.10            1.587055     0.046512            19.767442   \n",
       "\n",
       "   HasCrCard  IsActiveMember  Geography  Gender  \n",
       "0          1               1          0       0  \n",
       "1         -1               1          2       0  \n",
       "2          1              -1          0       0  \n",
       "3         -1              -1          0       0  \n",
       "4          1               1          2       0  "
      ]
     },
     "execution_count": 26,
     "metadata": {},
     "output_type": "execute_result"
    }
   ],
   "source": [
    "df.head()"
   ]
  },
  {
   "cell_type": "code",
   "execution_count": 27,
   "metadata": {
    "colab": {
     "base_uri": "https://localhost:8080/"
    },
    "id": "3MDFINSHyXJl",
    "outputId": "bec38dcb-1416-4a09-862a-761d65d44068"
   },
   "outputs": [
    {
     "data": {
      "text/plain": [
       "Index(['Exited', 'CreditScore', 'Age', 'Tenure', 'Balance', 'NumOfProducts',\n",
       "       'EstimatedSalary', 'BalanceSalaryRatio', 'TenureByAge',\n",
       "       'CreditScoreGivenAge', 'HasCrCard', 'IsActiveMember', 'Gender_0',\n",
       "       'Gender_1', 'Geography_0', 'Geography_1', 'Geography_2'],\n",
       "      dtype='object')"
      ]
     },
     "execution_count": 27,
     "metadata": {},
     "output_type": "execute_result"
    }
   ],
   "source": [
    "df1 = pd.get_dummies(data=df, columns=['Gender','Geography'])\n",
    "df1.columns"
   ]
  },
  {
   "cell_type": "code",
   "execution_count": 28,
   "metadata": {
    "colab": {
     "base_uri": "https://localhost:8080/",
     "height": 224
    },
    "id": "wUZL19jFyXJm",
    "outputId": "7625222d-34fc-4b33-e107-8f7f65969d02"
   },
   "outputs": [
    {
     "data": {
      "text/html": [
       "<div>\n",
       "<style scoped>\n",
       "    .dataframe tbody tr th:only-of-type {\n",
       "        vertical-align: middle;\n",
       "    }\n",
       "\n",
       "    .dataframe tbody tr th {\n",
       "        vertical-align: top;\n",
       "    }\n",
       "\n",
       "    .dataframe thead th {\n",
       "        text-align: right;\n",
       "    }\n",
       "</style>\n",
       "<table border=\"1\" class=\"dataframe\">\n",
       "  <thead>\n",
       "    <tr style=\"text-align: right;\">\n",
       "      <th></th>\n",
       "      <th>Exited</th>\n",
       "      <th>CreditScore</th>\n",
       "      <th>Age</th>\n",
       "      <th>Tenure</th>\n",
       "      <th>Balance</th>\n",
       "      <th>NumOfProducts</th>\n",
       "      <th>EstimatedSalary</th>\n",
       "      <th>BalanceSalaryRatio</th>\n",
       "      <th>TenureByAge</th>\n",
       "      <th>CreditScoreGivenAge</th>\n",
       "      <th>HasCrCard</th>\n",
       "      <th>IsActiveMember</th>\n",
       "      <th>Gender_0</th>\n",
       "      <th>Gender_1</th>\n",
       "      <th>Geography_0</th>\n",
       "      <th>Geography_1</th>\n",
       "      <th>Geography_2</th>\n",
       "    </tr>\n",
       "  </thead>\n",
       "  <tbody>\n",
       "    <tr>\n",
       "      <th>0</th>\n",
       "      <td>1</td>\n",
       "      <td>619</td>\n",
       "      <td>42</td>\n",
       "      <td>2</td>\n",
       "      <td>0.00</td>\n",
       "      <td>1</td>\n",
       "      <td>101348.88</td>\n",
       "      <td>0.000000</td>\n",
       "      <td>0.047619</td>\n",
       "      <td>14.738095</td>\n",
       "      <td>1</td>\n",
       "      <td>1</td>\n",
       "      <td>1</td>\n",
       "      <td>0</td>\n",
       "      <td>1</td>\n",
       "      <td>0</td>\n",
       "      <td>0</td>\n",
       "    </tr>\n",
       "    <tr>\n",
       "      <th>1</th>\n",
       "      <td>0</td>\n",
       "      <td>608</td>\n",
       "      <td>41</td>\n",
       "      <td>1</td>\n",
       "      <td>83807.86</td>\n",
       "      <td>1</td>\n",
       "      <td>112542.58</td>\n",
       "      <td>0.744677</td>\n",
       "      <td>0.024390</td>\n",
       "      <td>14.829268</td>\n",
       "      <td>-1</td>\n",
       "      <td>1</td>\n",
       "      <td>1</td>\n",
       "      <td>0</td>\n",
       "      <td>0</td>\n",
       "      <td>0</td>\n",
       "      <td>1</td>\n",
       "    </tr>\n",
       "    <tr>\n",
       "      <th>2</th>\n",
       "      <td>1</td>\n",
       "      <td>502</td>\n",
       "      <td>42</td>\n",
       "      <td>8</td>\n",
       "      <td>159660.80</td>\n",
       "      <td>3</td>\n",
       "      <td>113931.57</td>\n",
       "      <td>1.401375</td>\n",
       "      <td>0.190476</td>\n",
       "      <td>11.952381</td>\n",
       "      <td>1</td>\n",
       "      <td>-1</td>\n",
       "      <td>1</td>\n",
       "      <td>0</td>\n",
       "      <td>1</td>\n",
       "      <td>0</td>\n",
       "      <td>0</td>\n",
       "    </tr>\n",
       "    <tr>\n",
       "      <th>3</th>\n",
       "      <td>0</td>\n",
       "      <td>699</td>\n",
       "      <td>39</td>\n",
       "      <td>1</td>\n",
       "      <td>0.00</td>\n",
       "      <td>2</td>\n",
       "      <td>93826.63</td>\n",
       "      <td>0.000000</td>\n",
       "      <td>0.025641</td>\n",
       "      <td>17.923077</td>\n",
       "      <td>-1</td>\n",
       "      <td>-1</td>\n",
       "      <td>1</td>\n",
       "      <td>0</td>\n",
       "      <td>1</td>\n",
       "      <td>0</td>\n",
       "      <td>0</td>\n",
       "    </tr>\n",
       "    <tr>\n",
       "      <th>4</th>\n",
       "      <td>0</td>\n",
       "      <td>850</td>\n",
       "      <td>43</td>\n",
       "      <td>2</td>\n",
       "      <td>125510.82</td>\n",
       "      <td>1</td>\n",
       "      <td>79084.10</td>\n",
       "      <td>1.587055</td>\n",
       "      <td>0.046512</td>\n",
       "      <td>19.767442</td>\n",
       "      <td>1</td>\n",
       "      <td>1</td>\n",
       "      <td>1</td>\n",
       "      <td>0</td>\n",
       "      <td>0</td>\n",
       "      <td>0</td>\n",
       "      <td>1</td>\n",
       "    </tr>\n",
       "  </tbody>\n",
       "</table>\n",
       "</div>"
      ],
      "text/plain": [
       "   Exited  CreditScore  Age  Tenure    Balance  NumOfProducts  \\\n",
       "0       1          619   42       2       0.00              1   \n",
       "1       0          608   41       1   83807.86              1   \n",
       "2       1          502   42       8  159660.80              3   \n",
       "3       0          699   39       1       0.00              2   \n",
       "4       0          850   43       2  125510.82              1   \n",
       "\n",
       "   EstimatedSalary  BalanceSalaryRatio  TenureByAge  CreditScoreGivenAge  \\\n",
       "0        101348.88            0.000000     0.047619            14.738095   \n",
       "1        112542.58            0.744677     0.024390            14.829268   \n",
       "2        113931.57            1.401375     0.190476            11.952381   \n",
       "3         93826.63            0.000000     0.025641            17.923077   \n",
       "4         79084.10            1.587055     0.046512            19.767442   \n",
       "\n",
       "   HasCrCard  IsActiveMember  Gender_0  Gender_1  Geography_0  Geography_1  \\\n",
       "0          1               1         1         0            1            0   \n",
       "1         -1               1         1         0            0            0   \n",
       "2          1              -1         1         0            1            0   \n",
       "3         -1              -1         1         0            1            0   \n",
       "4          1               1         1         0            0            0   \n",
       "\n",
       "   Geography_2  \n",
       "0            0  \n",
       "1            1  \n",
       "2            0  \n",
       "3            0  \n",
       "4            1  "
      ]
     },
     "execution_count": 28,
     "metadata": {},
     "output_type": "execute_result"
    }
   ],
   "source": [
    "df1.head()"
   ]
  },
  {
   "cell_type": "code",
   "execution_count": 29,
   "metadata": {
    "colab": {
     "base_uri": "https://localhost:8080/"
    },
    "id": "4JxrW_1uyXJm",
    "outputId": "bab4662e-ba12-47a9-f302-2f7e177d1554"
   },
   "outputs": [
    {
     "data": {
      "text/plain": [
       "['CreditScore',\n",
       " 'Age',\n",
       " 'Tenure',\n",
       " 'Balance',\n",
       " 'NumOfProducts',\n",
       " 'EstimatedSalary',\n",
       " 'BalanceSalaryRatio',\n",
       " 'TenureByAge',\n",
       " 'CreditScoreGivenAge']"
      ]
     },
     "execution_count": 29,
     "metadata": {},
     "output_type": "execute_result"
    }
   ],
   "source": [
    "continuous_vars"
   ]
  },
  {
   "cell_type": "markdown",
   "metadata": {},
   "source": [
    "### Scaling the continuous attributes using MinMaxScaler"
   ]
  },
  {
   "cell_type": "code",
   "execution_count": 30,
   "metadata": {
    "id": "rRDxnFZ_yXJn"
   },
   "outputs": [],
   "source": [
    "from sklearn.preprocessing import MinMaxScaler\n",
    "scaler = MinMaxScaler()\n",
    "df1[continuous_vars] = scaler.fit_transform(df1[continuous_vars])"
   ]
  },
  {
   "cell_type": "code",
   "execution_count": 31,
   "metadata": {
    "colab": {
     "base_uri": "https://localhost:8080/"
    },
    "id": "FKgIsJxvyXJo",
    "outputId": "56cdb5e3-862f-411d-90b3-c707941aeb54"
   },
   "outputs": [
    {
     "name": "stdout",
     "output_type": "stream",
     "text": [
      "Exited: [1 0]\n",
      "CreditScore: [0.538 0.516 0.304 0.698 1.    0.59  0.944 0.052 0.302 0.668 0.356 0.294\n",
      " 0.252 0.398 0.57  0.532 0.606 0.474 0.752 0.764 0.572 0.32  0.638 0.992\n",
      " 0.454 0.812 0.442 0.448 0.122 0.482 0.366 0.406 0.34  0.744 0.25  0.28\n",
      " 0.908 0.464 0.244 0.23  0.412 0.968 0.62  0.852 0.958 0.574 0.4   0.696\n",
      " 0.47  0.876 0.61  0.502 0.612 0.75  0.322 0.528 0.784 0.674 0.41  0.506\n",
      " 0.802 0.462 0.77  0.622 0.65  0.776 0.926 0.614 0.508 0.338 0.628 0.656\n",
      " 0.814 0.132 0.63  0.854 0.386 0.312 0.286 0.604 0.8   0.758 0.592 0.594\n",
      " 0.916 0.348 0.838 0.76  0.33  0.846 0.928 0.72  0.126 0.546 0.64  0.544\n",
      " 0.87  0.51  0.258 0.67  0.376 0.424 0.742 0.556 0.636 0.956 0.648 0.55\n",
      " 0.164 0.84  0.816 0.89  0.672 0.878 0.478 0.222 0.468 0.458 0.626 0.664\n",
      " 0.886 0.682 0.27  0.6   0.808 0.37  0.732 0.378 0.712 0.472 0.562 0.734\n",
      " 0.9   0.666 0.708 0.53  0.634 0.268 0.26  0.456 0.324 0.512 0.494 0.856\n",
      " 0.328 0.35  0.73  0.46  0.914 0.342 0.818 0.332 0.722 0.536 0.586 0.642\n",
      " 0.678 0.54  0.652 0.444 0.69  0.484 0.434 0.688 0.394 0.488 0.646 0.52\n",
      " 0.834 0.826 0.724 0.706 0.624 0.618 0.346 0.844 0.39  0.568 0.778 0.842\n",
      " 0.662 0.388 0.692 0.832 0.754 0.686 0.414 0.362 0.296 0.602 0.882 0.766\n",
      " 0.922 0.714 0.728 0.864 0.85  0.898 0.504 0.788 0.476 0.794 0.466 0.554\n",
      " 0.762 0.558 0.176 0.584 0.912 0.248 0.418 0.158 0.66  0.798 0.768 0.588\n",
      " 0.552 0.598 0.91  0.736 0.98  0.56  0.608 0.824 0.436 0.526 0.344 0.774\n",
      " 0.596 0.186 0.58  0.38  0.22  0.486 0.902 0.522 0.904 0.79  0.266 0.68\n",
      " 0.284 0.718 0.71  0.42  0.804 0.702 0.374 0.274 0.492 0.704 0.272 0.748\n",
      " 0.396 0.228 0.88  0.368 0.796 0.288 0.48  0.236 0.318 0.936 0.932 0.372\n",
      " 0.806 0.848 0.542 0.438 0.616 0.896 0.582 0.384 0.684 0.578 0.83  0.44\n",
      " 0.576 0.498 0.564 0.858 0.354 0.428 0.966 0.308 0.984 0.316 0.134 0.496\n",
      " 0.782 0.514 0.822 0.996 0.392 0.178 0.81  0.82  0.352 0.726 0.7   0.632\n",
      " 0.432 0.29  0.676 0.524 0.254 0.154 0.978 0.938 0.74  0.218 0.306 0.548\n",
      " 0.358 0.426 0.264 0.892 0.19  0.792 0.872 0.408 0.644 0.874 0.298 0.988\n",
      " 0.2   0.93  0.976 0.906 0.772 0.566 0.5   0.658 0.334 0.884 0.786 0.276\n",
      " 0.142 0.982 0.716 0.314 0.31  0.212 0.17  0.422 0.336 0.43  0.756 0.868\n",
      " 0.404 0.518 0.828 0.694 0.746 0.402 0.188 0.738 0.292 0.382 0.96  0.924\n",
      " 0.654 0.14  0.49  0.534 0.918 0.3   0.952 0.168 0.326 0.256 0.894 0.026\n",
      " 0.098 0.226 0.86  0.204 0.45  0.974 0.888 0.948 0.156 0.946 0.862 0.998\n",
      " 0.278 0.162 0.214 0.836 0.962 0.018 0.94  0.446 0.452 0.416 0.934 0.198\n",
      " 0.18  0.13  0.942 0.36  0.    0.192 0.15  0.78  0.262 0.866 0.016 0.99\n",
      " 0.202 0.216 0.238 0.146 0.108 0.972 0.246 0.97  0.232 0.282 0.002 0.954\n",
      " 0.986 0.03  0.364 0.128 0.206 0.242 0.102 0.92  0.964 0.24  0.194 0.144\n",
      " 0.95  0.16  0.172 0.152 0.116 0.994 0.136 0.174 0.12  0.208 0.114 0.21\n",
      " 0.224 0.072 0.11  0.066 0.09  0.234 0.166 0.184 0.148 0.196 0.182 0.034\n",
      " 0.124 0.064 0.046 0.138]\n",
      "Age: [0.32432432 0.31081081 0.28378378 0.33783784 0.35135135 0.43243243\n",
      " 0.14864865 0.12162162 0.17567568 0.08108108 0.21621622 0.09459459\n",
      " 0.22972973 0.36486486 0.54054054 0.18918919 0.27027027 0.37837838\n",
      " 0.24324324 0.2027027  0.2972973  0.44594595 0.58108108 0.41891892\n",
      " 0.25675676 0.01351351 0.64864865 0.51351351 0.10810811 0.04054054\n",
      " 0.5        0.77027027 0.05405405 0.16216216 0.13513514 0.63513514\n",
      " 0.40540541 0.45945946 0.52702703 0.74324324 0.39189189 0.48648649\n",
      " 0.72972973 0.02702703 0.66216216 0.82432432 0.59459459 0.47297297\n",
      " 0.83783784 0.55405405 0.67567568 0.06756757 0.56756757 0.7027027\n",
      " 0.60810811 0.62162162 0.         0.86486486 0.68918919 0.75675676\n",
      " 0.71621622 0.78378378 0.7972973  0.94594595 0.90540541 0.89189189\n",
      " 0.81081081 0.85135135 1.         0.87837838]\n",
      "Tenure: [0.2 0.1 0.8 0.7 0.4 0.6 0.3 1.  0.5 0.9 0. ]\n",
      "Balance: [0.         0.33403148 0.63635718 ... 0.22865702 0.29922631 0.51870777]\n",
      "NumOfProducts: [0.         0.66666667 0.33333333 1.        ]\n",
      "EstimatedSalary: [0.50673489 0.56270874 0.56965435 ... 0.21039009 0.46442905 0.19091423]\n",
      "BalanceSalaryRatio: [0.00000000e+00 7.01555418e-05 1.32022611e-04 ... 5.31442186e-05\n",
      " 7.61428608e-05 3.21037440e-04]\n",
      "TenureByAge: [0.08571429 0.04390244 0.34285714 0.04615385 0.08372093 0.32727273\n",
      " 0.252      0.24827586 0.16363636 0.13333333 0.3483871  0.225\n",
      " 0.52941176 0.36       0.12       0.03103448 0.675      0.24\n",
      " 0.45       0.35121951 0.18947368 0.1173913  0.23684211 0.216\n",
      " 0.1        0.36818182 0.1255814  0.         0.13846154 0.35\n",
      " 0.39512195 0.25714286 0.55862069 0.17419355 0.38181818 0.26341463\n",
      " 0.18       0.28235294 0.05901639 0.07346939 0.14754098 0.6\n",
      " 0.41538462 0.09473684 0.0972973  0.40909091 0.25       0.27272727\n",
      " 0.04285714 0.04186047 0.2        0.10909091 0.14117647 0.05454545\n",
      " 0.27692308 0.3        0.05294118 0.41860465 0.68571429 0.06206897\n",
      " 0.37241379 0.26181818 0.50625    0.43902439 0.1125     0.15\n",
      " 0.21176471 0.15652174 0.24545455 0.54       0.19285714 0.20454545\n",
      " 0.28       0.5        0.49655172 0.17142857 0.51428571 0.65454545\n",
      " 0.47647059 0.27       0.52258065 0.02769231 0.05625    0.46285714\n",
      " 0.32307692 0.57857143 0.29189189 0.46451613 0.42352941 0.375\n",
      " 0.38571429 0.03461538 0.30731707 0.15882353 0.49090909 0.42631579\n",
      " 0.072      0.26470588 0.09       0.075      0.05142857 0.37058824\n",
      " 0.20930233 0.06923077 0.29032258 0.42857143 0.24324324 0.39375\n",
      " 0.3375     0.25116279 0.22105263 0.12857143 0.14794521 0.21818182\n",
      " 0.525      0.09230769 0.33333333 0.09818182 0.08       0.05538462\n",
      " 0.04       0.144      0.045      0.15428571 0.14594595 0.31578947\n",
      " 0.30857143 0.13170732 0.26808511 0.27391304 0.26666667 0.42\n",
      " 0.54545455 0.19459459 0.1862069  0.025      0.04864865 0.13432836\n",
      " 0.12413793 0.07826087 0.23076923 0.38918919 0.16119403 0.48461538\n",
      " 0.31764706 0.14210526 0.10588235 0.48       0.34054054 0.08709677\n",
      " 0.33962264 0.03913043 0.36923077 0.62068966 0.20571429 0.315\n",
      " 0.31034483 0.34615385 0.2195122  0.46666667 0.23225806 0.28636364\n",
      " 0.58064516 0.41142857 0.05806452 0.06315789 0.10285714 0.35217391\n",
      " 0.08181818 0.43448276 0.16875    0.46153846 0.19148936 0.504\n",
      " 0.29302326 0.09152542 0.432      0.25263158 0.09310345 0.324\n",
      " 0.23823529 0.024      0.4        0.12272727 0.23478261 0.85714286\n",
      " 0.37894737 0.02727273 0.62608696 0.33061224 0.48648649 0.7826087\n",
      " 0.04736842 0.55384615 0.62307692 0.405      0.08780488 0.43636364\n",
      " 0.11489362 0.28421053 0.22978723 0.33157895 0.40645161 0.66666667\n",
      " 0.39130435 0.43783784 0.26557377 0.29454545 0.16666667 0.17560976\n",
      " 0.32142857 0.11612903 0.06       0.03050847 0.14516129 0.06428571\n",
      " 0.72       0.10188679 0.0295082  0.06666667 0.02857143 0.04090909\n",
      " 0.36734694 0.135      0.53333333 0.03529412 0.07058824 0.30566038\n",
      " 0.05       0.37674419 0.15789474 0.33488372 0.13584906 0.64285714\n",
      " 0.16981132 0.03829787 0.17647059 0.0375     0.1875     0.14693878\n",
      " 0.24230769 0.576      0.03333333 0.253125   0.21428571 0.02571429\n",
      " 0.15517241 0.24705882 0.02903226 0.03157895 0.28125    0.21\n",
      " 0.19565217 0.34468085 0.22040816 0.21724138 0.11020408 0.18461538\n",
      " 0.13043478 0.19384615 0.03214286 0.16071429 0.18367347 0.028125\n",
      " 0.20377358 0.16744186 0.16       0.07297297 0.2625     0.23606557\n",
      " 0.10746269 0.21492537 0.11428571 0.23142857 0.20322581 0.17307692\n",
      " 0.288      0.08059701 0.57272727 0.46956522 0.5625     0.20655738\n",
      " 0.27931034 0.11803279 0.30638298 0.19090909 0.13090909 0.1880597\n",
      " 0.31304348 0.21355932 0.14285714 0.06545455 0.10140845 0.20769231\n",
      " 0.32       0.05217391 0.17260274 0.27457627 0.28928571 0.47368421\n",
      " 0.23773585 0.10384615 0.03673469 0.036      0.084375   0.15319149\n",
      " 0.29387755 0.21038961 1.         0.06792453 0.15254237 0.75\n",
      " 0.54782609 0.63       0.70434783 0.648      0.02608696 0.81\n",
      " 0.17027027 0.27169811 0.21891892 0.22857143 0.05714286 0.08852459\n",
      " 0.03272727 0.12162162 0.7        0.12631579 0.18701299 0.07659574\n",
      " 0.24923077 0.06101695 0.108      0.85263158 0.22909091 0.23333333\n",
      " 0.73636364 0.31153846 0.2028169  0.24179104 0.25352113 0.03396226\n",
      " 0.04931507 0.21315789 0.35294118 0.2440678  0.19636364 0.02686567\n",
      " 0.66315789 0.38297872 0.16578947 0.09642857 0.13636364 0.56842105\n",
      " 0.1220339  0.69230769 0.07605634 0.125      0.1826087  0.196875\n",
      " 0.04675325 0.05373134 0.2278481  0.77142857 0.11842105 0.19726027\n",
      " 0.12328767 0.07714286 0.29508197 0.26086957 0.23376623 0.140625\n",
      " 0.048      0.81818182 0.12676056 0.14025974 0.15949367 0.26129032\n",
      " 0.02647059 0.11392405 0.175      0.02535211 0.18305085 0.16615385\n",
      " 0.17704918 0.11076923 0.17746479 0.168      0.02465753 0.07941176\n",
      " 0.22191781 0.05869565 0.15211268 0.26865672 0.07012987 0.01956522\n",
      " 0.75789474 0.13235294 0.03       0.11688312 0.02222222 0.9\n",
      " 0.28571429 0.11111111 0.22816901 0.8        0.05070423 0.30508475\n",
      " 0.02432432 0.13012048 0.11538462 0.0675     0.18529412 0.02337662]\n",
      "CreditScoreGivenAge: [0.23508308 0.23725223 0.16880665 ... 0.59903701 0.15243259 0.54075945]\n",
      "HasCrCard: [ 1 -1]\n",
      "IsActiveMember: [ 1 -1]\n",
      "Gender_0: [1 0]\n",
      "Gender_1: [0 1]\n",
      "Geography_0: [1 0]\n",
      "Geography_1: [0 1]\n",
      "Geography_2: [0 1]\n"
     ]
    }
   ],
   "source": [
    "for col in df1:\n",
    "    print(f'{col}: {df1[col].unique()}')"
   ]
  },
  {
   "cell_type": "markdown",
   "metadata": {},
   "source": [
    "## 5. Model fitting and selection\n"
   ]
  },
  {
   "cell_type": "markdown",
   "metadata": {},
   "source": [
    "### For Model fitting, we will try a couple of different machine learning algorithms in order to get an idea about which machine learning algorithm performs better.Since this is a classification problem,we will try the following algorithms :\n",
    "### 1. Logistic Regression\n",
    "### 2. Logistic Regression with degree 2 polynomial kernel\n",
    "### 3.SVM with Rbf kernel and poly kernel\n",
    "### 4. Random Forest Classifier\n",
    "### 5. Extreme Gradient Boosting Classifier\n"
   ]
  },
  {
   "cell_type": "markdown",
   "metadata": {},
   "source": [
    "## We will also use deep learning  after these techniques."
   ]
  },
  {
   "cell_type": "code",
   "execution_count": 2,
   "metadata": {
    "id": "FLVv_RS3yXJp"
   },
   "outputs": [],
   "source": [
    "# Support functions\n",
    "from sklearn.preprocessing import PolynomialFeatures\n",
    "from sklearn.model_selection import cross_val_score\n",
    "from sklearn.model_selection import GridSearchCV\n",
    "from scipy.stats import uniform\n",
    "\n",
    "# Fit models\n",
    "from sklearn.linear_model import LogisticRegression\n",
    "from sklearn.svm import SVC\n",
    "from sklearn.ensemble import RandomForestClassifier\n",
    "from xgboost import XGBClassifier\n",
    "\n",
    "# Scoring functions\n",
    "from sklearn.metrics import accuracy_score\n",
    "from sklearn.metrics import classification_report\n",
    "from sklearn.metrics import roc_auc_score\n",
    "from sklearn.metrics import roc_curve"
   ]
  },
  {
   "cell_type": "code",
   "execution_count": null,
   "metadata": {},
   "outputs": [],
   "source": []
  },
  {
   "cell_type": "code",
   "execution_count": 33,
   "metadata": {
    "colab": {
     "base_uri": "https://localhost:8080/"
    },
    "id": "kIWmotRAyXJz",
    "outputId": "842ebe8b-d9d4-4961-c03c-26d6db8f5a9d"
   },
   "outputs": [
    {
     "data": {
      "text/plain": [
       "(10000, 17)"
      ]
     },
     "execution_count": 33,
     "metadata": {},
     "output_type": "execute_result"
    }
   ],
   "source": [
    "df1.head()\n",
    "df1.shape"
   ]
  },
  {
   "cell_type": "code",
   "execution_count": 103,
   "metadata": {
    "id": "mp2MfH32yXJ1"
   },
   "outputs": [],
   "source": [
    "X = df1.drop('Exited',axis='columns')\n",
    "y = df1['Exited']\n",
    "\n",
    "from sklearn.model_selection import train_test_split\n",
    "X_train, X_test, y_train, y_test = train_test_split(X,y,test_size=0.2,random_state=5)"
   ]
  },
  {
   "cell_type": "code",
   "execution_count": 104,
   "metadata": {
    "colab": {
     "base_uri": "https://localhost:8080/"
    },
    "id": "kww0BhpuyXJ1",
    "outputId": "0eee12e2-02af-4c20-aca2-d9e1fea1ec23"
   },
   "outputs": [
    {
     "data": {
      "text/plain": [
       "(8000, 16)"
      ]
     },
     "execution_count": 104,
     "metadata": {},
     "output_type": "execute_result"
    }
   ],
   "source": [
    "X_train.shape"
   ]
  },
  {
   "cell_type": "markdown",
   "metadata": {},
   "source": [
    "### Figuring out the importance of features in our dataset"
   ]
  },
  {
   "cell_type": "code",
   "execution_count": 37,
   "metadata": {},
   "outputs": [
    {
     "name": "stdout",
     "output_type": "stream",
     "text": [
      " 1) CreditScore                    0.162059\n",
      " 2) Age                            0.125722\n",
      " 3) Tenure                         0.125141\n",
      " 4) Balance                        0.092627\n",
      " 5) NumOfProducts                  0.090254\n",
      " 6) EstimatedSalary                0.090037\n",
      " 7) BalanceSalaryRatio             0.078720\n",
      " 8) TenureByAge                    0.073692\n",
      " 9) CreditScoreGivenAge            0.044547\n",
      "10) HasCrCard                      0.041200\n",
      "11) IsActiveMember                 0.021166\n",
      "12) Gender_0                       0.013834\n",
      "13) Gender_1                       0.010538\n",
      "14) Geography_0                    0.010499\n",
      "15) Geography_1                    0.010498\n",
      "16) Geography_2                    0.009465\n"
     ]
    }
   ],
   "source": [
    "# We perform training on the Random Forest model and generate the importance of the features\n",
    "\n",
    "features_label = X_train.columns\n",
    "forest = RandomForestClassifier (n_estimators = 1000, random_state = 0, n_jobs = -1)\n",
    "forest.fit(X_train, y_train)\n",
    "importances = forest.feature_importances_\n",
    "indices = np.argsort(importances)[::-1]\n",
    "for i in range(X.shape[1]):\n",
    "    print (\"%2d) %-*s %f\" % (i + 1, 30, features_label[i], importances[indices[i]]))"
   ]
  },
  {
   "cell_type": "code",
   "execution_count": 38,
   "metadata": {},
   "outputs": [
    {
     "data": {
      "image/png": "[encoded data removed]",
      "text/plain": [
       "<Figure size 432x288 with 1 Axes>"
      ]
     },
     "metadata": {},
     "output_type": "display_data"
    }
   ],
   "source": [
    "# Visualization of the Feature importances\n",
    "plt.title('Feature Importances')\n",
    "plt.bar(range(X_train.shape[1]), importances[indices], color = \"green\", align = \"center\")\n",
    "plt.xticks(range(X_train.shape[1]), features_label, rotation = 90)\n",
    "plt.show()"
   ]
  },
  {
   "cell_type": "code",
   "execution_count": 34,
   "metadata": {
    "id": "FOMtvlA8zQ0m"
   },
   "outputs": [],
   "source": [
    "# Function to give best model score and parameters\n",
    "def best_model(model):\n",
    "    print(model.best_score_)    \n",
    "    print(model.best_params_)\n",
    "    print(model.best_estimator_)\n"
   ]
  },
  {
   "cell_type": "markdown",
   "metadata": {},
   "source": [
    "### Fitting different models to GridSearchCV to find out the best parameters."
   ]
  },
  {
   "cell_type": "code",
   "execution_count": 40,
   "metadata": {
    "colab": {
     "base_uri": "https://localhost:8080/"
    },
    "id": "GPXkqEKqyXJ2",
    "outputId": "2ff9006b-146f-42a2-83f6-a983f92e6f42"
   },
   "outputs": [
    {
     "name": "stdout",
     "output_type": "stream",
     "text": [
      "0.8168750000000001\n",
      "{'C': 10, 'fit_intercept': True, 'intercept_scaling': 1, 'max_iter': 250, 'penalty': 'l2', 'tol': 1e-05}\n",
      "LogisticRegression(C=10, class_weight=None, dual=False, fit_intercept=True,\n",
      "                   intercept_scaling=1, l1_ratio=None, max_iter=250,\n",
      "                   multi_class='auto', n_jobs=None, penalty='l2',\n",
      "                   random_state=None, solver='lbfgs', tol=1e-05, verbose=0,\n",
      "                   warm_start=False)\n"
     ]
    }
   ],
   "source": [
    "# Fit primal logistic regression\n",
    "param_grid = {'C': [0.1,0.5,1,10,50,100], 'max_iter': [250], 'fit_intercept':[True],'intercept_scaling':[1],\n",
    "              'penalty':['l2'], 'tol':[0.00001,0.0001,0.000001]}\n",
    "log_primal_Grid = GridSearchCV(LogisticRegression(solver='lbfgs'),param_grid, cv=10, refit=True, verbose=0)\n",
    "log_primal_Grid.fit(X_train,y_train)\n",
    "best_model(log_primal_Grid)"
   ]
  },
  {
   "cell_type": "code",
   "execution_count": 41,
   "metadata": {
    "colab": {
     "base_uri": "https://localhost:8080/"
    },
    "id": "LKym9qTAzZbe",
    "outputId": "d6f22c2a-94f3-40f0-9785-9c7dac76c96b"
   },
   "outputs": [
    {
     "name": "stdout",
     "output_type": "stream",
     "text": [
      "0.8594999999999999\n",
      "{'C': 50, 'fit_intercept': True, 'intercept_scaling': 1, 'max_iter': 300, 'penalty': 'l2', 'tol': 0.0001}\n",
      "LogisticRegression(C=50, class_weight=None, dual=False, fit_intercept=True,\n",
      "                   intercept_scaling=1, l1_ratio=None, max_iter=300,\n",
      "                   multi_class='auto', n_jobs=None, penalty='l2',\n",
      "                   random_state=None, solver='liblinear', tol=0.0001, verbose=0,\n",
      "                   warm_start=False)\n"
     ]
    }
   ],
   "source": [
    "# Fit logistic regression with degree 2 polynomial kernel\n",
    "param_grid = {'C': [0.1,10,50], 'max_iter': [300,500], 'fit_intercept':[True],'intercept_scaling':[1],'penalty':['l2'],\n",
    "              'tol':[0.0001,0.000001]}\n",
    "poly2 = PolynomialFeatures(degree=2)\n",
    "df_train_pol2 = poly2.fit_transform(X_train)\n",
    "log_pol2_Grid = GridSearchCV(LogisticRegression(solver = 'liblinear'),param_grid, cv=5, refit=True, verbose=0)\n",
    "log_pol2_Grid.fit(df_train_pol2,y_train)\n",
    "best_model(log_pol2_Grid)"
   ]
  },
  {
   "cell_type": "code",
   "execution_count": 42,
   "metadata": {
    "colab": {
     "base_uri": "https://localhost:8080/"
    },
    "id": "QSOkDHTRz7Iv",
    "outputId": "2adfdba4-99b1-4bdc-896a-4d955680c7f0"
   },
   "outputs": [
    {
     "name": "stdout",
     "output_type": "stream",
     "text": [
      "0.8538753079720999\n",
      "{'C': 150, 'gamma': 0.1, 'kernel': 'rbf', 'probability': True}\n",
      "SVC(C=150, break_ties=False, cache_size=200, class_weight=None, coef0=0.0,\n",
      "    decision_function_shape='ovr', degree=3, gamma=0.1, kernel='rbf',\n",
      "    max_iter=-1, probability=True, random_state=None, shrinking=True, tol=0.001,\n",
      "    verbose=False)\n"
     ]
    }
   ],
   "source": [
    "# Fit SVM with RBF Kernel\n",
    "param_grid = {'C': [0.5,100,150], 'gamma': [0.1,0.01,0.001],'probability':[True],'kernel': ['rbf']}\n",
    "SVM_grid = GridSearchCV(SVC(), param_grid, cv=3, refit=True, verbose=0)\n",
    "SVM_grid.fit(X_train,y_train)\n",
    "best_model(SVM_grid)"
   ]
  },
  {
   "cell_type": "code",
   "execution_count": 43,
   "metadata": {
    "colab": {
     "base_uri": "https://localhost:8080/"
    },
    "id": "CgIwaEDE0RNV",
    "outputId": "48fe31e3-5fb9-4325-9064-14ce360428e5"
   },
   "outputs": [
    {
     "name": "stdout",
     "output_type": "stream",
     "text": [
      "0.8552506518080589\n",
      "{'C': 100, 'degree': 2, 'gamma': 0.1, 'kernel': 'poly', 'probability': True}\n",
      "SVC(C=100, break_ties=False, cache_size=200, class_weight=None, coef0=0.0,\n",
      "    decision_function_shape='ovr', degree=2, gamma=0.1, kernel='poly',\n",
      "    max_iter=-1, probability=True, random_state=None, shrinking=True, tol=0.001,\n",
      "    verbose=False)\n"
     ]
    }
   ],
   "source": [
    "# Fit SVM with pol kernel\n",
    "param_grid = {'C': [0.5,1,10,50,100], 'gamma': [0.1,0.01,0.001],'probability':[True],'kernel': ['poly'],'degree':[2,3] }\n",
    "SVM_grid = GridSearchCV(SVC(), param_grid, cv=3, refit=True, verbose=0)\n",
    "SVM_grid.fit(X_train,y_train)\n",
    "best_model(SVM_grid)"
   ]
  },
  {
   "cell_type": "code",
   "execution_count": 44,
   "metadata": {
    "colab": {
     "base_uri": "https://localhost:8080/"
    },
    "id": "2Bqs3BrH0f9N",
    "outputId": "cddb8a66-aa74-42b9-b9e5-524594e4daf6"
   },
   "outputs": [
    {
     "name": "stdout",
     "output_type": "stream",
     "text": [
      "0.8665\n",
      "{'max_depth': 8, 'max_features': 7, 'min_samples_split': 3, 'n_estimators': 100}\n",
      "RandomForestClassifier(bootstrap=True, ccp_alpha=0.0, class_weight=None,\n",
      "                       criterion='gini', max_depth=8, max_features=7,\n",
      "                       max_leaf_nodes=None, max_samples=None,\n",
      "                       min_impurity_decrease=0.0, min_impurity_split=None,\n",
      "                       min_samples_leaf=1, min_samples_split=3,\n",
      "                       min_weight_fraction_leaf=0.0, n_estimators=100,\n",
      "                       n_jobs=None, oob_score=False, random_state=None,\n",
      "                       verbose=0, warm_start=False)\n"
     ]
    }
   ],
   "source": [
    "# Fit random forest classifier\n",
    "param_grid = {'max_depth': [3, 5, 6, 7, 8], 'max_features': [2,4,6,7,8,9],'n_estimators':[50,100],'min_samples_split': [3, 5, 6, 7]}\n",
    "RanFor_grid = GridSearchCV(RandomForestClassifier(), param_grid, cv=5, refit=True, verbose=0)\n",
    "RanFor_grid.fit(X_train,y_train)\n",
    "best_model(RanFor_grid)"
   ]
  },
  {
   "cell_type": "code",
   "execution_count": 45,
   "metadata": {
    "colab": {
     "base_uri": "https://localhost:8080/"
    },
    "id": "Dab6NIZJ13Uy",
    "outputId": "22979a52-02c1-4e9a-f656-83bf7666248a"
   },
   "outputs": [
    {
     "name": "stdout",
     "output_type": "stream",
     "text": [
      "0.86625\n",
      "{'gamma': 0.01, 'learning_rate': 0.1, 'max_depth': 5, 'min_child_weight': 1, 'n_estimators': 100}\n",
      "XGBClassifier(base_score=0.5, booster='gbtree', colsample_bylevel=1,\n",
      "              colsample_bynode=1, colsample_bytree=1, gamma=0.01,\n",
      "              learning_rate=0.1, max_delta_step=0, max_depth=5,\n",
      "              min_child_weight=1, missing=None, n_estimators=100, n_jobs=1,\n",
      "              nthread=None, objective='binary:logistic', random_state=0,\n",
      "              reg_alpha=0, reg_lambda=1, scale_pos_weight=1, seed=None,\n",
      "              silent=None, subsample=1, verbosity=1)\n"
     ]
    }
   ],
   "source": [
    "# Fit Extreme Gradient boosting classifier\n",
    "param_grid = {'max_depth': [5,6,7,8], 'gamma': [0.01,0.001,0.001],'min_child_weight':[1,5,10], 'learning_rate': [0.05,0.1, 0.2, 0.3], 'n_estimators':[5,10,20,100]}\n",
    "xgb_grid = GridSearchCV(XGBClassifier(), param_grid, cv=5, refit=True, verbose=0)\n",
    "xgb_grid.fit(X_train,y_train)\n",
    "best_model(xgb_grid)"
   ]
  },
  {
   "cell_type": "markdown",
   "metadata": {
    "id": "zkBUS8-t3qxB"
   },
   "source": [
    "### Fitting our training dataset with the model with best parameters for each of the machine learning techniques."
   ]
  },
  {
   "cell_type": "code",
   "execution_count": 105,
   "metadata": {
    "colab": {
     "base_uri": "https://localhost:8080/"
    },
    "id": "GD64UYAp3q-k",
    "outputId": "1a57c58c-9e05-48b5-a807-724daa2fb7bc"
   },
   "outputs": [
    {
     "data": {
      "text/plain": [
       "LogisticRegression(C=10, max_iter=250, tol=1e-05)"
      ]
     },
     "execution_count": 105,
     "metadata": {},
     "output_type": "execute_result"
    }
   ],
   "source": [
    "# Fit primal logistic regression\n",
    "log_primal = LogisticRegression(C=10, class_weight=None, dual=False, fit_intercept=True,intercept_scaling=1, max_iter=250, multi_class='auto',n_jobs=None, \n",
    "                                penalty='l2', random_state=None, solver='lbfgs',tol=1e-05, verbose=0, warm_start=False)\n",
    "log_primal.fit(X_train,y_train)"
   ]
  },
  {
   "cell_type": "code",
   "execution_count": 106,
   "metadata": {
    "colab": {
     "base_uri": "https://localhost:8080/"
    },
    "id": "DnF0zCAN67kn",
    "outputId": "8b85cc1e-9aff-40dc-f278-3d2eb2e00fdd"
   },
   "outputs": [
    {
     "data": {
      "text/plain": [
       "LogisticRegression(C=50, max_iter=300, solver='liblinear')"
      ]
     },
     "execution_count": 106,
     "metadata": {},
     "output_type": "execute_result"
    }
   ],
   "source": [
    "# Fit logistic regression with pol 2 kernel\n",
    "poly2 = PolynomialFeatures(degree=2)\n",
    "df_train_pol2 = poly2.fit_transform(X_train)\n",
    "log_pol2 = LogisticRegression(C=50, class_weight=None, dual=False, fit_intercept=True,intercept_scaling=1, max_iter=300, multi_class='auto', n_jobs=None, \n",
    "                              penalty='l2', random_state=None, solver='liblinear',tol=0.0001, verbose=0, warm_start=False)\n",
    "log_pol2.fit(df_train_pol2,y_train)"
   ]
  },
  {
   "cell_type": "code",
   "execution_count": 107,
   "metadata": {
    "colab": {
     "base_uri": "https://localhost:8080/"
    },
    "id": "NmBo9rNQ7UMT",
    "outputId": "8704c191-fd12-4153-8a4a-ed9ca800596d"
   },
   "outputs": [
    {
     "data": {
      "text/plain": [
       "SVC(C=150, gamma=0.1, probability=True)"
      ]
     },
     "execution_count": 107,
     "metadata": {},
     "output_type": "execute_result"
    }
   ],
   "source": [
    "# Fit SVM with RBF Kernel\n",
    "SVM_RBF = SVC(C=150, cache_size=200, class_weight=None, coef0=0.0, decision_function_shape='ovr', degree=3, gamma=0.1, kernel='rbf', max_iter=-1, probability=True, \n",
    "              random_state=None, shrinking=True,tol=0.001, verbose=False)\n",
    "SVM_RBF.fit(X_train,y_train)"
   ]
  },
  {
   "cell_type": "code",
   "execution_count": 70,
   "metadata": {
    "colab": {
     "base_uri": "https://localhost:8080/"
    },
    "id": "K13435hu7av0",
    "outputId": "71bf1c10-6bc6-4c5a-8dd2-aa9c9a24bbfd"
   },
   "outputs": [
    {
     "data": {
      "text/plain": [
       "SVC(C=100, degree=2, gamma=0.1, kernel='poly', probability=True)"
      ]
     },
     "execution_count": 70,
     "metadata": {},
     "output_type": "execute_result"
    }
   ],
   "source": [
    "# Fit SVM with Pol Kernel\n",
    "SVM_POL = SVC(C=100, cache_size=200, class_weight=None, coef0=0.0,  decision_function_shape='ovr', degree=2, gamma=0.1, kernel='poly',  max_iter=-1,\n",
    "              probability=True, random_state=None, shrinking=True, tol=0.001, verbose=False)\n",
    "SVM_POL.fit(X_train,y_train)"
   ]
  },
  {
   "cell_type": "code",
   "execution_count": 108,
   "metadata": {
    "colab": {
     "base_uri": "https://localhost:8080/"
    },
    "id": "Vn_k5CB_78nH",
    "outputId": "f6746dc0-b275-48c4-ea9e-0e8578cd8f3c"
   },
   "outputs": [
    {
     "data": {
      "text/plain": [
       "RandomForestClassifier(max_depth=8, max_features=7, min_samples_split=3)"
      ]
     },
     "execution_count": 108,
     "metadata": {},
     "output_type": "execute_result"
    }
   ],
   "source": [
    "# Fit Random Forest classifier\n",
    "RF = RandomForestClassifier(bootstrap=True, class_weight=None, criterion='gini',max_depth=8, max_features=7, max_leaf_nodes=None,min_impurity_decrease=0.0,\n",
    "                            min_impurity_split=None,min_samples_leaf=1, min_samples_split=3,min_weight_fraction_leaf=0.0, n_estimators=100, n_jobs=None,\n",
    "                            oob_score=False, random_state=None, verbose=0,warm_start=False)\n",
    "RF.fit(X_train,y_train)"
   ]
  },
  {
   "cell_type": "code",
   "execution_count": 109,
   "metadata": {
    "colab": {
     "base_uri": "https://localhost:8080/"
    },
    "id": "br58tZ848R1n",
    "outputId": "0282f6d1-4f9c-4e40-a61c-627288baaff3"
   },
   "outputs": [
    {
     "name": "stderr",
     "output_type": "stream",
     "text": [
      "C:\\Users\\tanis\\anaconda3\\lib\\site-packages\\xgboost\\sklearn.py:888: UserWarning: The use of label encoder in XGBClassifier is deprecated and will be removed in a future release. To remove this warning, do the following: 1) Pass option use_label_encoder=False when constructing XGBClassifier object; and 2) Encode your labels (y) as integers starting with 0, i.e. 0, 1, 2, ..., [num_class - 1].\n",
      "  warnings.warn(label_encoder_deprecation_msg, UserWarning)\n"
     ]
    },
    {
     "name": "stdout",
     "output_type": "stream",
     "text": [
      "[21:06:44] WARNING: C:/Users/Administrator/workspace/xgboost-win64_release_1.3.0/src/learner.cc:1061: Starting in XGBoost 1.3.0, the default evaluation metric used with the objective 'binary:logistic' was changed from 'error' to 'logloss'. Explicitly set eval_metric if you'd like to restore the old behavior.\n"
     ]
    },
    {
     "data": {
      "text/plain": [
       "XGBClassifier(base_score=0.5, booster='gbtree', colsample_bylevel=1,\n",
       "              colsample_bynode=1, colsample_bytree=1, gamma=0.01, gpu_id=-1,\n",
       "              importance_type='gain', interaction_constraints='',\n",
       "              learning_rate=0.1, max_delta_step=0, max_depth=5,\n",
       "              min_child_weight=1, missing=None, monotone_constraints='()',\n",
       "              n_estimators=100, n_jobs=1, nthread=1, num_parallel_tree=1,\n",
       "              random_state=0, reg_alpha=0, reg_lambda=1, scale_pos_weight=1,\n",
       "              seed=0, subsample=1, tree_method='exact', validate_parameters=1,\n",
       "              verbosity=None)"
      ]
     },
     "execution_count": 109,
     "metadata": {},
     "output_type": "execute_result"
    }
   ],
   "source": [
    "# Fit Extreme Gradient Boost Classifier\n",
    "XGB = XGBClassifier(base_score=0.5, booster='gbtree', colsample_bylevel=1,colsample_bytree=1, gamma=0.01, learning_rate=0.1, max_delta_step=0,max_depth=5,\n",
    "                    min_child_weight=1, missing=None, n_estimators=100,n_jobs=1, nthread=None, objective='binary:logistic', random_state=0,reg_alpha=0, \n",
    "                    reg_lambda=1, scale_pos_weight=1, seed=None,  subsample=1)\n",
    "XGB.fit(X_train,y_train)"
   ]
  },
  {
   "cell_type": "markdown",
   "metadata": {
    "id": "-Rm6yZ7l8gWH"
   },
   "source": [
    "### Reviewing best model fit accuracy. Our keen interest is on the performance in predicting 1's (Customers who churn)"
   ]
  },
  {
   "cell_type": "code",
   "execution_count": 110,
   "metadata": {
    "colab": {
     "base_uri": "https://localhost:8080/"
    },
    "id": "rYAQ41f98ghs",
    "outputId": "e62fa586-3594-4a2d-b0e5-3ac9abf7e46a"
   },
   "outputs": [
    {
     "name": "stdout",
     "output_type": "stream",
     "text": [
      "              precision    recall  f1-score   support\n",
      "\n",
      "           0       0.83      0.97      0.89      6368\n",
      "           1       0.64      0.23      0.34      1632\n",
      "\n",
      "    accuracy                           0.82      8000\n",
      "   macro avg       0.74      0.60      0.62      8000\n",
      "weighted avg       0.79      0.82      0.78      8000\n",
      "\n"
     ]
    }
   ],
   "source": [
    "# Normal logistic regression\n",
    "print(classification_report(y_train, log_primal.predict(X_train)))"
   ]
  },
  {
   "cell_type": "code",
   "execution_count": 111,
   "metadata": {
    "colab": {
     "base_uri": "https://localhost:8080/"
    },
    "id": "8WP7Mux78nCw",
    "outputId": "dd311bda-d8f3-45bd-a790-fafcc1a0dce9"
   },
   "outputs": [
    {
     "name": "stdout",
     "output_type": "stream",
     "text": [
      "              precision    recall  f1-score   support\n",
      "\n",
      "           0       0.88      0.96      0.92      6368\n",
      "           1       0.76      0.49      0.59      1632\n",
      "\n",
      "    accuracy                           0.86      8000\n",
      "   macro avg       0.82      0.72      0.76      8000\n",
      "weighted avg       0.85      0.86      0.85      8000\n",
      "\n"
     ]
    }
   ],
   "source": [
    "# Logistic Regression with degree 2 polynomial kernel\n",
    "print(classification_report(y_train,  log_pol2.predict(df_train_pol2)))"
   ]
  },
  {
   "cell_type": "code",
   "execution_count": 112,
   "metadata": {
    "colab": {
     "base_uri": "https://localhost:8080/"
    },
    "id": "izzp2gki_133",
    "outputId": "a02829a1-ad30-4be0-dcf8-6a05c50d6a49"
   },
   "outputs": [
    {
     "name": "stdout",
     "output_type": "stream",
     "text": [
      "              precision    recall  f1-score   support\n",
      "\n",
      "           0       0.87      0.98      0.92      6368\n",
      "           1       0.83      0.41      0.55      1632\n",
      "\n",
      "    accuracy                           0.86      8000\n",
      "   macro avg       0.85      0.69      0.73      8000\n",
      "weighted avg       0.86      0.86      0.84      8000\n",
      "\n"
     ]
    }
   ],
   "source": [
    "# SVM with RBF kernel\n",
    "print(classification_report(y_train,  SVM_RBF.predict(X_train)))"
   ]
  },
  {
   "cell_type": "code",
   "execution_count": 113,
   "metadata": {
    "colab": {
     "base_uri": "https://localhost:8080/"
    },
    "id": "fFGUe0Gh_-lP",
    "outputId": "c04d5ae6-3b3b-494d-d1a1-c26ed9bf1441"
   },
   "outputs": [
    {
     "name": "stdout",
     "output_type": "stream",
     "text": [
      "              precision    recall  f1-score   support\n",
      "\n",
      "           0       0.92      0.82      0.87      6368\n",
      "           1       0.51      0.73      0.61      1632\n",
      "\n",
      "    accuracy                           0.80      8000\n",
      "   macro avg       0.72      0.78      0.74      8000\n",
      "weighted avg       0.84      0.80      0.82      8000\n",
      "\n"
     ]
    }
   ],
   "source": [
    "# SVM with polynomial kernel\n",
    "print(classification_report(y_train,  SVM_POL.predict(X_train)))"
   ]
  },
  {
   "cell_type": "code",
   "execution_count": 114,
   "metadata": {},
   "outputs": [
    {
     "name": "stdout",
     "output_type": "stream",
     "text": [
      "              precision    recall  f1-score   support\n",
      "\n",
      "           0       0.89      0.98      0.93      6368\n",
      "           1       0.88      0.52      0.65      1632\n",
      "\n",
      "    accuracy                           0.89      8000\n",
      "   macro avg       0.89      0.75      0.79      8000\n",
      "weighted avg       0.89      0.89      0.88      8000\n",
      "\n"
     ]
    }
   ],
   "source": [
    "# Random Forest Classifier\n",
    "print(classification_report(y_train,  RF.predict(X_train)))"
   ]
  },
  {
   "cell_type": "code",
   "execution_count": 115,
   "metadata": {},
   "outputs": [
    {
     "name": "stdout",
     "output_type": "stream",
     "text": [
      "              precision    recall  f1-score   support\n",
      "\n",
      "           0       0.89      0.98      0.93      6368\n",
      "           1       0.85      0.54      0.66      1632\n",
      "\n",
      "    accuracy                           0.89      8000\n",
      "   macro avg       0.87      0.76      0.80      8000\n",
      "weighted avg       0.88      0.89      0.88      8000\n",
      "\n"
     ]
    }
   ],
   "source": [
    "# Xtreme Gradient Boosting\n",
    "print(classification_report(y_train,  XGB.predict(X_train)))"
   ]
  },
  {
   "cell_type": "markdown",
   "metadata": {},
   "source": [
    "### Clearly XG Boost is giving the best training data acuracy of 89% for our dataset."
   ]
  },
  {
   "cell_type": "code",
   "execution_count": 61,
   "metadata": {
    "id": "2zRMK3c0CN3n"
   },
   "outputs": [],
   "source": [
    "y = y_train\n",
    "X = X_train\n",
    "X_pol2 = df_train_pol2\n",
    "auc_log_primal, fpr_log_primal, tpr_log_primal = get_auc_scores(y, log_primal.predict(X),log_primal.predict_proba(X)[:,1])\n",
    "auc_log_pol2, fpr_log_pol2, tpr_log_pol2 = get_auc_scores(y, log_pol2.predict(X_pol2),log_pol2.predict_proba(X_pol2)[:,1])\n",
    "auc_SVM_RBF, fpr_SVM_RBF, tpr_SVM_RBF = get_auc_scores(y, SVM_RBF.predict(X),SVM_RBF.predict_proba(X)[:,1])\n",
    "auc_SVM_POL, fpr_SVM_POL, tpr_SVM_POL = get_auc_scores(y, SVM_POL.predict(X),SVM_POL.predict_proba(X)[:,1])\n",
    "auc_RF, fpr_RF, tpr_RF = get_auc_scores(y, RF.predict(X),RF.predict_proba(X)[:,1])\n",
    "auc_XGB, fpr_XGB, tpr_XGB = get_auc_scores(y, XGB.predict(X),XGB.predict_proba(X)[:,1])\n"
   ]
  },
  {
   "cell_type": "markdown",
   "metadata": {},
   "source": [
    "### Plotting the auc_score curve for all the models which is also showing Random Forest as best."
   ]
  },
  {
   "cell_type": "code",
   "execution_count": 62,
   "metadata": {
    "colab": {
     "base_uri": "https://localhost:8080/",
     "height": 404
    },
    "id": "WAQEp0paCcBI",
    "outputId": "f8be8ba3-fb69-40c6-e398-bc68290aab50"
   },
   "outputs": [
    {
     "data": {
      "image/png": "[encoded data removed]",
      "text/plain": [
       "<Figure size 864x432 with 1 Axes>"
      ]
     },
     "metadata": {
      "needs_background": "light",
      "tags": []
     },
     "output_type": "display_data"
    }
   ],
   "source": [
    "plt.figure(figsize = (12,6), linewidth= 1)\n",
    "plt.plot(fpr_log_primal, tpr_log_primal, label = 'log primal Score: ' + str(round(auc_log_primal, 5)))\n",
    "plt.plot(fpr_log_pol2, tpr_log_pol2, label = 'log pol2 score: ' + str(round(auc_log_pol2, 5)))\n",
    "plt.plot(fpr_SVM_RBF, tpr_SVM_RBF, label = 'SVM RBF Score: ' + str(round(auc_SVM_RBF, 5)))\n",
    "plt.plot(fpr_SVM_POL, tpr_SVM_POL, label = 'SVM POL Score: ' + str(round(auc_SVM_POL, 5)))\n",
    "plt.plot(fpr_RF, tpr_RF, label = 'RF score: ' + str(round(auc_RF, 5)))\n",
    "plt.plot(fpr_XGB, tpr_XGB, label = 'XGB score: ' + str(round(auc_XGB, 5)))\n",
    "plt.plot([0,1], [0,1], 'k--', label = 'Random: 0.5')\n",
    "plt.xlabel('False positive rate')\n",
    "plt.ylabel('True positive rate')\n",
    "plt.title('ROC Curve')\n",
    "plt.legend(loc='best')\n",
    "#plt.savefig('roc_results_ratios.png')\n",
    "plt.show()"
   ]
  },
  {
   "cell_type": "markdown",
   "metadata": {},
   "source": [
    "### Checking accuracy for test data with XG Boost Model"
   ]
  },
  {
   "cell_type": "code",
   "execution_count": 116,
   "metadata": {},
   "outputs": [
    {
     "name": "stdout",
     "output_type": "stream",
     "text": [
      "              precision    recall  f1-score   support\n",
      "\n",
      "           0       0.88      0.96      0.92      1595\n",
      "           1       0.75      0.46      0.57       405\n",
      "\n",
      "    accuracy                           0.86      2000\n",
      "   macro avg       0.81      0.71      0.74      2000\n",
      "weighted avg       0.85      0.86      0.85      2000\n",
      "\n"
     ]
    }
   ],
   "source": [
    "print(classification_report(y_test,  XGB.predict(X_test)))"
   ]
  },
  {
   "cell_type": "markdown",
   "metadata": {},
   "source": [
    "### Final accuracy for the test data is coming to be 86 % which is quite good but as we have seen that our dataset is a little imbalanced thatswhy our accuracy for customers who had exited is coming low.\n"
   ]
  },
  {
   "cell_type": "markdown",
   "metadata": {},
   "source": [
    "## Using Artitficial Neural Network technique"
   ]
  },
  {
   "cell_type": "code",
   "execution_count": null,
   "metadata": {},
   "outputs": [],
   "source": []
  },
  {
   "cell_type": "code",
   "execution_count": 59,
   "metadata": {},
   "outputs": [
    {
     "data": {
      "text/plain": [
       "(8000, 16)"
      ]
     },
     "execution_count": 59,
     "metadata": {},
     "output_type": "execute_result"
    }
   ],
   "source": [
    "X_train.shape"
   ]
  },
  {
   "cell_type": "markdown",
   "metadata": {},
   "source": [
    "### Fitting model with 2 hidden layers along with appling dropout regularization.Final accuracy for training data is coming to be 85.28 %"
   ]
  },
  {
   "cell_type": "code",
   "execution_count": 62,
   "metadata": {},
   "outputs": [
    {
     "name": "stdout",
     "output_type": "stream",
     "text": [
      "Epoch 1/50\n",
      "800/800 [==============================] - 1s 1ms/step - loss: 0.5240 - accuracy: 0.7916\n",
      "Epoch 2/50\n",
      "800/800 [==============================] - 1s 1ms/step - loss: 0.4821 - accuracy: 0.7959\n",
      "Epoch 3/50\n",
      "800/800 [==============================] - 1s 1ms/step - loss: 0.4663 - accuracy: 0.7960\n",
      "Epoch 4/50\n",
      "800/800 [==============================] - 1s 1ms/step - loss: 0.4535 - accuracy: 0.7961\n",
      "Epoch 5/50\n",
      "800/800 [==============================] - 1s 1ms/step - loss: 0.4456 - accuracy: 0.8080\n",
      "Epoch 6/50\n",
      "800/800 [==============================] - 1s 1ms/step - loss: 0.4385 - accuracy: 0.8115\n",
      "Epoch 7/50\n",
      "800/800 [==============================] - 1s 1ms/step - loss: 0.4339 - accuracy: 0.8173\n",
      "Epoch 8/50\n",
      "800/800 [==============================] - 1s 1ms/step - loss: 0.4234 - accuracy: 0.8195\n",
      "Epoch 9/50\n",
      "800/800 [==============================] - 1s 1ms/step - loss: 0.4182 - accuracy: 0.8261\n",
      "Epoch 10/50\n",
      "800/800 [==============================] - 1s 1ms/step - loss: 0.4079 - accuracy: 0.8307\n",
      "Epoch 11/50\n",
      "800/800 [==============================] - 1s 1ms/step - loss: 0.4021 - accuracy: 0.8304\n",
      "Epoch 12/50\n",
      "800/800 [==============================] - 1s 1ms/step - loss: 0.3953 - accuracy: 0.8347\n",
      "Epoch 13/50\n",
      "800/800 [==============================] - 1s 1ms/step - loss: 0.3907 - accuracy: 0.8420\n",
      "Epoch 14/50\n",
      "800/800 [==============================] - 1s 1ms/step - loss: 0.3866 - accuracy: 0.8405\n",
      "Epoch 15/50\n",
      "800/800 [==============================] - 1s 1ms/step - loss: 0.3820 - accuracy: 0.8409\n",
      "Epoch 16/50\n",
      "800/800 [==============================] - 1s 1ms/step - loss: 0.3819 - accuracy: 0.8429\n",
      "Epoch 17/50\n",
      "800/800 [==============================] - 1s 1ms/step - loss: 0.3796 - accuracy: 0.8451\n",
      "Epoch 18/50\n",
      "800/800 [==============================] - 1s 1ms/step - loss: 0.3808 - accuracy: 0.8453\n",
      "Epoch 19/50\n",
      "800/800 [==============================] - 1s 1ms/step - loss: 0.3741 - accuracy: 0.8443\n",
      "Epoch 20/50\n",
      "800/800 [==============================] - 1s 1ms/step - loss: 0.3728 - accuracy: 0.8474\n",
      "Epoch 21/50\n",
      "800/800 [==============================] - 1s 1ms/step - loss: 0.3773 - accuracy: 0.8443\n",
      "Epoch 22/50\n",
      "800/800 [==============================] - 1s 1ms/step - loss: 0.3685 - accuracy: 0.8468\n",
      "Epoch 23/50\n",
      "800/800 [==============================] - 1s 1ms/step - loss: 0.3742 - accuracy: 0.8453\n",
      "Epoch 24/50\n",
      "800/800 [==============================] - 1s 1ms/step - loss: 0.3751 - accuracy: 0.8449\n",
      "Epoch 25/50\n",
      "800/800 [==============================] - 1s 1ms/step - loss: 0.3723 - accuracy: 0.8444\n",
      "Epoch 26/50\n",
      "800/800 [==============================] - 1s 1ms/step - loss: 0.3695 - accuracy: 0.8447\n",
      "Epoch 27/50\n",
      "800/800 [==============================] - 1s 1ms/step - loss: 0.3706 - accuracy: 0.8446\n",
      "Epoch 28/50\n",
      "800/800 [==============================] - 1s 1ms/step - loss: 0.3678 - accuracy: 0.8464\n",
      "Epoch 29/50\n",
      "800/800 [==============================] - 1s 1ms/step - loss: 0.3693 - accuracy: 0.8474\n",
      "Epoch 30/50\n",
      "800/800 [==============================] - 1s 1ms/step - loss: 0.3645 - accuracy: 0.8503\n",
      "Epoch 31/50\n",
      "800/800 [==============================] - 1s 1ms/step - loss: 0.3666 - accuracy: 0.8472\n",
      "Epoch 32/50\n",
      "800/800 [==============================] - 1s 1ms/step - loss: 0.3639 - accuracy: 0.8490\n",
      "Epoch 33/50\n",
      "800/800 [==============================] - 1s 1ms/step - loss: 0.3658 - accuracy: 0.8475\n",
      "Epoch 34/50\n",
      "800/800 [==============================] - 1s 1ms/step - loss: 0.3656 - accuracy: 0.8509\n",
      "Epoch 35/50\n",
      "800/800 [==============================] - 1s 1ms/step - loss: 0.3667 - accuracy: 0.8504\n",
      "Epoch 36/50\n",
      "800/800 [==============================] - 1s 1ms/step - loss: 0.3660 - accuracy: 0.8481\n",
      "Epoch 37/50\n",
      "800/800 [==============================] - 1s 1ms/step - loss: 0.3605 - accuracy: 0.8519\n",
      "Epoch 38/50\n",
      "800/800 [==============================] - 1s 1ms/step - loss: 0.3676 - accuracy: 0.8516\n",
      "Epoch 39/50\n",
      "800/800 [==============================] - 1s 1ms/step - loss: 0.3655 - accuracy: 0.8514\n",
      "Epoch 40/50\n",
      "800/800 [==============================] - 1s 1ms/step - loss: 0.3616 - accuracy: 0.8531\n",
      "Epoch 41/50\n",
      "800/800 [==============================] - 1s 1ms/step - loss: 0.3638 - accuracy: 0.8503\n",
      "Epoch 42/50\n",
      "800/800 [==============================] - 1s 1ms/step - loss: 0.3643 - accuracy: 0.8499\n",
      "Epoch 43/50\n",
      "800/800 [==============================] - 1s 1ms/step - loss: 0.3678 - accuracy: 0.8474\n",
      "Epoch 44/50\n",
      "800/800 [==============================] - 1s 1ms/step - loss: 0.3639 - accuracy: 0.8512\n",
      "Epoch 45/50\n",
      "800/800 [==============================] - 1s 1ms/step - loss: 0.3640 - accuracy: 0.8521\n",
      "Epoch 46/50\n",
      "800/800 [==============================] - 1s 1ms/step - loss: 0.3705 - accuracy: 0.8481\n",
      "Epoch 47/50\n",
      "800/800 [==============================] - 1s 1ms/step - loss: 0.3668 - accuracy: 0.8504\n",
      "Epoch 48/50\n",
      "800/800 [==============================] - 1s 1ms/step - loss: 0.3588 - accuracy: 0.8530\n",
      "Epoch 49/50\n",
      "800/800 [==============================] - 1s 1ms/step - loss: 0.3679 - accuracy: 0.8519\n",
      "Epoch 50/50\n",
      "800/800 [==============================] - 1s 2ms/step - loss: 0.3620 - accuracy: 0.8528\n"
     ]
    },
    {
     "data": {
      "text/plain": [
       "<tensorflow.python.keras.callbacks.History at 0x1de3eb61cd0>"
      ]
     },
     "execution_count": 62,
     "metadata": {},
     "output_type": "execute_result"
    }
   ],
   "source": [
    "# creating the model\n",
    "model = Sequential()\n",
    "\n",
    "from keras.layers import Dropout\n",
    "\n",
    "# first hidden layer\n",
    "model.add(Dense(8,activation = 'relu', input_dim = 16))\n",
    "model.add(Dropout(0.1))\n",
    "\n",
    "# second hidden layer\n",
    "model.add(Dense( 8, activation = 'relu'))\n",
    "model.add(Dropout(0.1))\n",
    "\n",
    "# output layer\n",
    "model.add(Dense( 1,activation = 'sigmoid'))\n",
    "\n",
    "# Compiling the NN\n",
    "# binary_crossentropy loss function used when a binary output is expected\n",
    "model.compile(optimizer = 'adam', loss = 'binary_crossentropy', metrics = ['accuracy']) \n",
    "\n",
    "model.fit(X_train, y_train, batch_size = 10, epochs = 50)"
   ]
  },
  {
   "cell_type": "markdown",
   "metadata": {},
   "source": [
    "### Fitting model with 2 hidden layers along without appling dropout regularization.Final accuracy for training data is coming to be 86.21 %,better than the previous one."
   ]
  },
  {
   "cell_type": "code",
   "execution_count": 66,
   "metadata": {},
   "outputs": [
    {
     "name": "stdout",
     "output_type": "stream",
     "text": [
      "Epoch 1/50\n",
      "800/800 [==============================] - 1s 1ms/step - loss: 0.4955 - accuracy: 0.7954\n",
      "Epoch 2/50\n",
      "800/800 [==============================] - 1s 1ms/step - loss: 0.4581 - accuracy: 0.7965\n",
      "Epoch 3/50\n",
      "800/800 [==============================] - 1s 1ms/step - loss: 0.4443 - accuracy: 0.8039\n",
      "Epoch 4/50\n",
      "800/800 [==============================] - 1s 1ms/step - loss: 0.4328 - accuracy: 0.8154\n",
      "Epoch 5/50\n",
      "800/800 [==============================] - 1s 1ms/step - loss: 0.4243 - accuracy: 0.8234\n",
      "Epoch 6/50\n",
      "800/800 [==============================] - 1s 1ms/step - loss: 0.4207 - accuracy: 0.8261\n",
      "Epoch 7/50\n",
      "800/800 [==============================] - 1s 1ms/step - loss: 0.4168 - accuracy: 0.8303\n",
      "Epoch 8/50\n",
      "800/800 [==============================] - 2s 2ms/step - loss: 0.4139 - accuracy: 0.8311\n",
      "Epoch 9/50\n",
      "800/800 [==============================] - 2s 2ms/step - loss: 0.4107 - accuracy: 0.8347\n",
      "Epoch 10/50\n",
      "800/800 [==============================] - 2s 2ms/step - loss: 0.4082 - accuracy: 0.8353\n",
      "Epoch 11/50\n",
      "800/800 [==============================] - 2s 2ms/step - loss: 0.4060 - accuracy: 0.8355\n",
      "Epoch 12/50\n",
      "800/800 [==============================] - 2s 2ms/step - loss: 0.4047 - accuracy: 0.8370\n",
      "Epoch 13/50\n",
      "800/800 [==============================] - 2s 2ms/step - loss: 0.4029 - accuracy: 0.8372\n",
      "Epoch 14/50\n",
      "800/800 [==============================] - 1s 1ms/step - loss: 0.4021 - accuracy: 0.8351\n",
      "Epoch 15/50\n",
      "800/800 [==============================] - 1s 1ms/step - loss: 0.4009 - accuracy: 0.8363\n",
      "Epoch 16/50\n",
      "800/800 [==============================] - 1s 1ms/step - loss: 0.3992 - accuracy: 0.8374\n",
      "Epoch 17/50\n",
      "800/800 [==============================] - 1s 1ms/step - loss: 0.3977 - accuracy: 0.8386\n",
      "Epoch 18/50\n",
      "800/800 [==============================] - 1s 1ms/step - loss: 0.3965 - accuracy: 0.8384\n",
      "Epoch 19/50\n",
      "800/800 [==============================] - 1s 1ms/step - loss: 0.3963 - accuracy: 0.8391\n",
      "Epoch 20/50\n",
      "800/800 [==============================] - 1s 2ms/step - loss: 0.3952 - accuracy: 0.8419\n",
      "Epoch 21/50\n",
      "800/800 [==============================] - 1s 2ms/step - loss: 0.3938 - accuracy: 0.8428\n",
      "Epoch 22/50\n",
      "800/800 [==============================] - 1s 2ms/step - loss: 0.3927 - accuracy: 0.8415\n",
      "Epoch 23/50\n",
      "800/800 [==============================] - 1s 1ms/step - loss: 0.3921 - accuracy: 0.8436\n",
      "Epoch 24/50\n",
      "800/800 [==============================] - 1s 1ms/step - loss: 0.3908 - accuracy: 0.8440\n",
      "Epoch 25/50\n",
      "800/800 [==============================] - 1s 1ms/step - loss: 0.3881 - accuracy: 0.8434\n",
      "Epoch 26/50\n",
      "800/800 [==============================] - 1s 1ms/step - loss: 0.3848 - accuracy: 0.8468\n",
      "Epoch 27/50\n",
      "800/800 [==============================] - 1s 1ms/step - loss: 0.3842 - accuracy: 0.8466\n",
      "Epoch 28/50\n",
      "800/800 [==============================] - 1s 1ms/step - loss: 0.3828 - accuracy: 0.8466\n",
      "Epoch 29/50\n",
      "800/800 [==============================] - 1s 2ms/step - loss: 0.3810 - accuracy: 0.8482\n",
      "Epoch 30/50\n",
      "800/800 [==============================] - 2s 2ms/step - loss: 0.3789 - accuracy: 0.8495\n",
      "Epoch 31/50\n",
      "800/800 [==============================] - 1s 2ms/step - loss: 0.3759 - accuracy: 0.8500\n",
      "Epoch 32/50\n",
      "800/800 [==============================] - 1s 2ms/step - loss: 0.3720 - accuracy: 0.8518: 0s - loss: 0.3705 - \n",
      "Epoch 33/50\n",
      "800/800 [==============================] - 1s 2ms/step - loss: 0.3689 - accuracy: 0.8534\n",
      "Epoch 34/50\n",
      "800/800 [==============================] - 1s 2ms/step - loss: 0.3665 - accuracy: 0.8525\n",
      "Epoch 35/50\n",
      "800/800 [==============================] - 1s 2ms/step - loss: 0.3635 - accuracy: 0.8535\n",
      "Epoch 36/50\n",
      "800/800 [==============================] - 1s 2ms/step - loss: 0.3604 - accuracy: 0.8550\n",
      "Epoch 37/50\n",
      "800/800 [==============================] - 1s 2ms/step - loss: 0.3580 - accuracy: 0.8564\n",
      "Epoch 38/50\n",
      "800/800 [==============================] - 1s 2ms/step - loss: 0.3561 - accuracy: 0.8560\n",
      "Epoch 39/50\n",
      "800/800 [==============================] - 1s 2ms/step - loss: 0.3534 - accuracy: 0.8590\n",
      "Epoch 40/50\n",
      "800/800 [==============================] - 1s 1ms/step - loss: 0.3509 - accuracy: 0.8590\n",
      "Epoch 41/50\n",
      "800/800 [==============================] - 1s 2ms/step - loss: 0.3496 - accuracy: 0.8583\n",
      "Epoch 42/50\n",
      "800/800 [==============================] - 1s 1ms/step - loss: 0.3483 - accuracy: 0.8584\n",
      "Epoch 43/50\n",
      "800/800 [==============================] - 1s 1ms/step - loss: 0.3459 - accuracy: 0.8609\n",
      "Epoch 44/50\n",
      "800/800 [==============================] - 1s 1ms/step - loss: 0.3458 - accuracy: 0.8606\n",
      "Epoch 45/50\n",
      "800/800 [==============================] - 1s 2ms/step - loss: 0.3449 - accuracy: 0.8601\n",
      "Epoch 46/50\n",
      "800/800 [==============================] - 1s 1ms/step - loss: 0.3443 - accuracy: 0.8596\n",
      "Epoch 47/50\n",
      "800/800 [==============================] - 1s 1ms/step - loss: 0.3434 - accuracy: 0.8600\n",
      "Epoch 48/50\n",
      "800/800 [==============================] - 1s 1ms/step - loss: 0.3430 - accuracy: 0.8622\n",
      "Epoch 49/50\n",
      "800/800 [==============================] - 1s 1ms/step - loss: 0.3424 - accuracy: 0.8609\n",
      "Epoch 50/50\n",
      "800/800 [==============================] - 1s 1ms/step - loss: 0.3418 - accuracy: 0.8621\n"
     ]
    },
    {
     "data": {
      "text/plain": [
       "<tensorflow.python.keras.callbacks.History at 0x1de3ee0a280>"
      ]
     },
     "execution_count": 66,
     "metadata": {},
     "output_type": "execute_result"
    }
   ],
   "source": [
    "# creating the model\n",
    "model = Sequential()\n",
    "\n",
    "from keras.layers import Dropout\n",
    "\n",
    "# first hidden layer\n",
    "model.add(Dense(8,activation = 'relu', input_dim = 16))\n",
    "\n",
    "# second hidden layer\n",
    "model.add(Dense( 8, activation = 'relu'))\n",
    "\n",
    "# output layer\n",
    "model.add(Dense( 1,activation = 'sigmoid'))\n",
    "\n",
    "# Compiling the NN\n",
    "# binary_crossentropy loss function used when a binary output is expected\n",
    "model.compile(optimizer = 'adam', loss = 'binary_crossentropy', metrics = ['accuracy']) \n",
    "\n",
    "model.fit(X_train, y_train, batch_size = 10, epochs = 50)"
   ]
  },
  {
   "cell_type": "code",
   "execution_count": 79,
   "metadata": {},
   "outputs": [
    {
     "data": {
      "text/plain": [
       "(2000,)"
      ]
     },
     "execution_count": 79,
     "metadata": {},
     "output_type": "execute_result"
    }
   ],
   "source": [
    "y_test.shape"
   ]
  },
  {
   "cell_type": "markdown",
   "metadata": {},
   "source": [
    "### Evaluating test data with this model and accuracy is coming to be 85.32 % which is almost similar to our Random Forest Model."
   ]
  },
  {
   "cell_type": "code",
   "execution_count": 67,
   "metadata": {},
   "outputs": [
    {
     "name": "stdout",
     "output_type": "stream",
     "text": [
      "63/63 [==============================] - 0s 1ms/step - loss: 0.3589 - accuracy: 0.8535\n"
     ]
    },
    {
     "data": {
      "text/plain": [
       "[0.3589024841785431, 0.8535000085830688]"
      ]
     },
     "execution_count": 67,
     "metadata": {},
     "output_type": "execute_result"
    }
   ],
   "source": [
    "model.evaluate(X_test, y_test)"
   ]
  },
  {
   "cell_type": "code",
   "execution_count": 73,
   "metadata": {},
   "outputs": [
    {
     "data": {
      "text/plain": [
       "array([[0.03836393],\n",
       "       [0.07862398],\n",
       "       [0.08457944],\n",
       "       [0.08565021],\n",
       "       [0.06044045],\n",
       "       [0.1115807 ],\n",
       "       [0.02741206],\n",
       "       [0.2738074 ],\n",
       "       [0.01431099],\n",
       "       [0.96245205]], dtype=float32)"
      ]
     },
     "execution_count": 73,
     "metadata": {},
     "output_type": "execute_result"
    }
   ],
   "source": [
    "# Manually verifying some predictions\n",
    "yp = model.predict(X_test)\n",
    "yp[:10]"
   ]
  },
  {
   "cell_type": "code",
   "execution_count": 72,
   "metadata": {},
   "outputs": [
    {
     "data": {
      "text/plain": [
       "[0, 0, 0, 0, 0, 0, 0, 0, 0, 1]"
      ]
     },
     "execution_count": 72,
     "metadata": {},
     "output_type": "execute_result"
    }
   ],
   "source": [
    "y_pred = []\n",
    "for element in yp:\n",
    "    if element > 0.5:\n",
    "        y_pred.append(1)\n",
    "    else:\n",
    "        y_pred.append(0)\n",
    "y_pred[:10]"
   ]
  },
  {
   "cell_type": "code",
   "execution_count": 74,
   "metadata": {},
   "outputs": [
    {
     "data": {
      "text/plain": [
       "7054    0\n",
       "442     0\n",
       "3954    0\n",
       "2288    0\n",
       "3196    0\n",
       "6178    0\n",
       "8351    0\n",
       "5658    1\n",
       "2065    0\n",
       "413     1\n",
       "Name: Exited, dtype: int64"
      ]
     },
     "execution_count": 74,
     "metadata": {},
     "output_type": "execute_result"
    }
   ],
   "source": [
    "y_test[:10]"
   ]
  },
  {
   "cell_type": "markdown",
   "metadata": {},
   "source": [
    "### Classification Report for this model is almost same as that of Random Forest Model."
   ]
  },
  {
   "cell_type": "code",
   "execution_count": 75,
   "metadata": {},
   "outputs": [
    {
     "name": "stdout",
     "output_type": "stream",
     "text": [
      "              precision    recall  f1-score   support\n",
      "\n",
      "           0       0.87      0.97      0.91      1595\n",
      "           1       0.75      0.41      0.53       405\n",
      "\n",
      "    accuracy                           0.85      2000\n",
      "   macro avg       0.81      0.69      0.72      2000\n",
      "weighted avg       0.84      0.85      0.84      2000\n",
      "\n"
     ]
    }
   ],
   "source": [
    "from sklearn.metrics import confusion_matrix , classification_report\n",
    "\n",
    "print(classification_report(y_test,y_pred))"
   ]
  },
  {
   "cell_type": "markdown",
   "metadata": {},
   "source": [
    "### Confusion Matrix"
   ]
  },
  {
   "cell_type": "code",
   "execution_count": 78,
   "metadata": {},
   "outputs": [
    {
     "data": {
      "text/plain": [
       "Text(64.5, 0.5, 'Truth')"
      ]
     },
     "execution_count": 78,
     "metadata": {},
     "output_type": "execute_result"
    },
    {
     "data": {
      "image/png": "[encoded data removed]",
      "text/plain": [
       "<Figure size 720x504 with 2 Axes>"
      ]
     },
     "metadata": {
      "needs_background": "light"
     },
     "output_type": "display_data"
    }
   ],
   "source": [
    "import seaborn as sn\n",
    "cm = tf.math.confusion_matrix(labels=y_test,predictions=y_pred)\n",
    "\n",
    "plt.figure(figsize = (10,7))\n",
    "sn.heatmap(cm, annot=True, fmt='d')\n",
    "plt.xlabel('Predicted')\n",
    "plt.ylabel('Truth')"
   ]
  },
  {
   "cell_type": "markdown",
   "metadata": {},
   "source": [
    "## 6.Handling the problem of Imbalanced dataset"
   ]
  },
  {
   "cell_type": "markdown",
   "metadata": {},
   "source": [
    "### Removing the imbalance of our dataset by SMOTE oversampling technique  "
   ]
  },
  {
   "cell_type": "code",
   "execution_count": 118,
   "metadata": {},
   "outputs": [
    {
     "data": {
      "text/plain": [
       "(10000, 16)"
      ]
     },
     "execution_count": 118,
     "metadata": {},
     "output_type": "execute_result"
    }
   ],
   "source": [
    "X.shape"
   ]
  },
  {
   "cell_type": "code",
   "execution_count": 119,
   "metadata": {},
   "outputs": [
    {
     "data": {
      "text/plain": [
       "(10000,)"
      ]
     },
     "execution_count": 119,
     "metadata": {},
     "output_type": "execute_result"
    }
   ],
   "source": [
    "y.shape"
   ]
  },
  {
   "cell_type": "code",
   "execution_count": 120,
   "metadata": {},
   "outputs": [
    {
     "data": {
      "text/plain": [
       "0    7963\n",
       "1    2037\n",
       "Name: Exited, dtype: int64"
      ]
     },
     "execution_count": 120,
     "metadata": {},
     "output_type": "execute_result"
    }
   ],
   "source": [
    "y.value_counts()"
   ]
  },
  {
   "cell_type": "code",
   "execution_count": 121,
   "metadata": {},
   "outputs": [
    {
     "data": {
      "text/plain": [
       "1    7963\n",
       "0    7963\n",
       "Name: Exited, dtype: int64"
      ]
     },
     "execution_count": 121,
     "metadata": {},
     "output_type": "execute_result"
    }
   ],
   "source": [
    "from imblearn.over_sampling import SMOTE\n",
    "\n",
    "smote = SMOTE(sampling_strategy='minority')\n",
    "X_sm, y_sm = smote.fit_sample(X, y)\n",
    "\n",
    "y_sm.value_counts()"
   ]
  },
  {
   "cell_type": "markdown",
   "metadata": {},
   "source": [
    "### Now we have equal number of churned and retaining customers."
   ]
  },
  {
   "cell_type": "code",
   "execution_count": 122,
   "metadata": {},
   "outputs": [],
   "source": [
    "from sklearn.model_selection import train_test_split\n",
    "X_train, X_test, y_train, y_test = train_test_split(X_sm, y_sm, test_size=0.2, random_state=15, stratify=y_sm)"
   ]
  },
  {
   "cell_type": "code",
   "execution_count": 123,
   "metadata": {},
   "outputs": [
    {
     "data": {
      "text/plain": [
       "1    6370\n",
       "0    6370\n",
       "Name: Exited, dtype: int64"
      ]
     },
     "execution_count": 123,
     "metadata": {},
     "output_type": "execute_result"
    }
   ],
   "source": [
    "y_train.value_counts()"
   ]
  },
  {
   "cell_type": "markdown",
   "metadata": {},
   "source": [
    "### Fitting with the XGB model generated using GridSearchCV."
   ]
  },
  {
   "cell_type": "code",
   "execution_count": 137,
   "metadata": {},
   "outputs": [
    {
     "name": "stdout",
     "output_type": "stream",
     "text": [
      "[21:22:11] WARNING: C:/Users/Administrator/workspace/xgboost-win64_release_1.3.0/src/learner.cc:1061: Starting in XGBoost 1.3.0, the default evaluation metric used with the objective 'binary:logistic' was changed from 'error' to 'logloss'. Explicitly set eval_metric if you'd like to restore the old behavior.\n"
     ]
    },
    {
     "data": {
      "text/plain": [
       "XGBClassifier(base_score=0.5, booster='gbtree', colsample_bylevel=1,\n",
       "              colsample_bynode=1, colsample_bytree=1, gamma=0.01, gpu_id=-1,\n",
       "              importance_type='gain', interaction_constraints='',\n",
       "              learning_rate=0.2, max_delta_step=0, max_depth=7,\n",
       "              min_child_weight=1, missing=None, monotone_constraints='()',\n",
       "              n_estimators=100, n_jobs=1, nthread=1, num_parallel_tree=1,\n",
       "              random_state=0, reg_alpha=0, reg_lambda=1, scale_pos_weight=1,\n",
       "              seed=0, subsample=1, tree_method='exact', validate_parameters=1,\n",
       "              verbosity=None)"
      ]
     },
     "execution_count": 137,
     "metadata": {},
     "output_type": "execute_result"
    }
   ],
   "source": [
    "XGB2 = XGBClassifier(base_score=0.5, booster='gbtree', colsample_bylevel=1,colsample_bytree=1, gamma=0.01, learning_rate=0.2, max_delta_step=0,max_depth=7,\n",
    "                    min_child_weight=1, missing=None, n_estimators=100,n_jobs=1, nthread=None, objective='binary:logistic', random_state=0,reg_alpha=0, \n",
    "                    reg_lambda=1, scale_pos_weight=1, seed=None,  subsample=1)\n",
    "XGB2.fit(X_train,y_train)"
   ]
  },
  {
   "cell_type": "markdown",
   "metadata": {},
   "source": [
    "### Training set accuracy is coming to be 97 % which is great in itself."
   ]
  },
  {
   "cell_type": "code",
   "execution_count": 138,
   "metadata": {},
   "outputs": [
    {
     "name": "stdout",
     "output_type": "stream",
     "text": [
      "              precision    recall  f1-score   support\n",
      "\n",
      "           0       0.95      0.98      0.97      6370\n",
      "           1       0.98      0.95      0.97      6370\n",
      "\n",
      "    accuracy                           0.97     12740\n",
      "   macro avg       0.97      0.97      0.97     12740\n",
      "weighted avg       0.97      0.97      0.97     12740\n",
      "\n"
     ]
    }
   ],
   "source": [
    "a=XGB2\n",
    "print(classification_report(y_train,  a.predict(X_train)))"
   ]
  },
  {
   "cell_type": "markdown",
   "metadata": {},
   "source": [
    "### Testing set accuracy is coming to be 91 % which has increased from 86% which we got in from our previous XGB model ."
   ]
  },
  {
   "cell_type": "code",
   "execution_count": 139,
   "metadata": {},
   "outputs": [
    {
     "name": "stdout",
     "output_type": "stream",
     "text": [
      "              precision    recall  f1-score   support\n",
      "\n",
      "           0       0.89      0.93      0.91      1593\n",
      "           1       0.93      0.88      0.90      1593\n",
      "\n",
      "    accuracy                           0.91      3186\n",
      "   macro avg       0.91      0.91      0.91      3186\n",
      "weighted avg       0.91      0.91      0.91      3186\n",
      "\n"
     ]
    }
   ],
   "source": [
    "print(classification_report(y_test,  a.predict(X_test)))"
   ]
  },
  {
   "cell_type": "code",
   "execution_count": 3,
   "metadata": {},
   "outputs": [],
   "source": [
    "XGB2 = XGBClassifier(base_score=0.5, booster='gbtree', colsample_bylevel=1,colsample_bytree=1, gamma=0.01, learning_rate=0.2, max_delta_step=0,max_depth=7,\n",
    "                    min_child_weight=1, missing=None, n_estimators=100,n_jobs=1, nthread=None, objective='binary:logistic', random_state=0,reg_alpha=0, \n",
    "                    reg_lambda=1, scale_pos_weight=1, seed=None,  subsample=1)"
   ]
  },
  {
   "cell_type": "code",
   "execution_count": 7,
   "metadata": {},
   "outputs": [
    {
     "data": {
      "text/plain": [
       "['churnXGB.pkl']"
      ]
     },
     "execution_count": 7,
     "metadata": {},
     "output_type": "execute_result"
    }
   ],
   "source": [
    "import joblib \n",
    "  \n",
    "# Save the model as a pickle in a file \n",
    "joblib.dump(XGB2, 'churnXGB.pkl') \n",
    "  \n",
    "# Load the model from the file \n",
    "# XGB_from_joblib = joblib.load('churnXGB.pkl')  \n",
    "  \n",
    "# Use the loaded model to make predictions \n",
    "# XGB_from_joblib.predict(X_test) "
   ]
  },
  {
   "cell_type": "markdown",
   "metadata": {},
   "source": [
    "## 7.Conclusion"
   ]
  },
  {
   "cell_type": "markdown",
   "metadata": {},
   "source": [
    "### We can see that by balancing the dataset has increased our overall testing data accuracy to 91% , also it has invidually increased the accuracy for the customers who had churned (57% previously to 90% now) from the bank which matters to us more than the customers who retained."
   ]
  },
  {
   "cell_type": "code",
   "execution_count": null,
   "metadata": {},
   "outputs": [],
   "source": []
  }
 ],
 "metadata": {
  "accelerator": "GPU",
  "colab": {
   "collapsed_sections": [],
   "name": "Banck_Churn_Tanish.ipynb",
   "provenance": []
  },
  "kernelspec": {
   "display_name": "Python 3",
   "language": "python",
   "name": "python3"
  },
  "language_info": {
   "codemirror_mode": {
    "name": "ipython",
    "version": 3
   },
   "file_extension": ".py",
   "mimetype": "text/x-python",
   "name": "python",
   "nbconvert_exporter": "python",
   "pygments_lexer": "ipython3",
   "version": "3.8.3"
  }
 },
 "nbformat": 4,
 "nbformat_minor": 1
}
